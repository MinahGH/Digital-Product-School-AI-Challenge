{
  "cells": [
    {
      "cell_type": "markdown",
      "metadata": {
        "id": "jEAECqmhRqkB"
      },
      "source": [
        "# Imports"
      ]
    },
    {
      "cell_type": "code",
      "execution_count": 10,
      "metadata": {
        "id": "Wy3XtAAXRg7u"
      },
      "outputs": [],
      "source": [
        "import os\n",
        "import pandas as pd\n",
        "import matplotlib.pyplot as plt\n",
        "import numpy as np\n",
        "import seaborn as sn\n",
        "import holidays\n",
        "from datetime import date\n",
        "from datetime import datetime\n",
        "from meteostat import Point, Daily\n",
        "from tqdm import tqdm\n",
        "from sklearn.ensemble import RandomForestRegressor,AdaBoostRegressor\n",
        "from sklearn.metrics import mean_squared_error\n",
        "from sklearn.preprocessing import normalize,StandardScaler\n",
        "\n",
        "import xgboost\n",
        "import pickle"
      ]
    },
    {
      "cell_type": "markdown",
      "metadata": {
        "id": "gXuZlzsnRzLz"
      },
      "source": [
        "# Reading Dataset"
      ]
    },
    {
      "cell_type": "code",
      "execution_count": 11,
      "metadata": {
        "id": "gGyPPXWaSBiK"
      },
      "outputs": [],
      "source": [
        "df = pd.read_csv(os.path.join(os.os.getcwd(),\"data/DPS_xgb_reg.pkl\"))"
      ]
    },
    {
      "cell_type": "code",
      "execution_count": 12,
      "metadata": {
        "colab": {
          "base_uri": "https://localhost:8080/",
          "height": 0
        },
        "id": "tDApnSQ5SQ3J",
        "outputId": "b4d3157c-5db4-4efb-825a-865bd53936c8"
      },
      "outputs": [
        {
          "data": {
            "text/html": [
              "\n",
              "  <div id=\"df-e41e80f9-c3db-4f16-85b2-8aa0920a4df2\" class=\"colab-df-container\">\n",
              "    <div>\n",
              "<style scoped>\n",
              "    .dataframe tbody tr th:only-of-type {\n",
              "        vertical-align: middle;\n",
              "    }\n",
              "\n",
              "    .dataframe tbody tr th {\n",
              "        vertical-align: top;\n",
              "    }\n",
              "\n",
              "    .dataframe thead th {\n",
              "        text-align: right;\n",
              "    }\n",
              "</style>\n",
              "<table border=\"1\" class=\"dataframe\">\n",
              "  <thead>\n",
              "    <tr style=\"text-align: right;\">\n",
              "      <th></th>\n",
              "      <th>MONATSZAHL</th>\n",
              "      <th>AUSPRAEGUNG</th>\n",
              "      <th>JAHR</th>\n",
              "      <th>MONAT</th>\n",
              "      <th>WERT</th>\n",
              "      <th>VORJAHRESWERT</th>\n",
              "      <th>VERAEND_VORMONAT_PROZENT</th>\n",
              "      <th>VERAEND_VORJAHRESMONAT_PROZENT</th>\n",
              "      <th>ZWOELF_MONATE_MITTELWERT</th>\n",
              "    </tr>\n",
              "  </thead>\n",
              "  <tbody>\n",
              "    <tr>\n",
              "      <th>0</th>\n",
              "      <td>Alkoholunfälle</td>\n",
              "      <td>insgesamt</td>\n",
              "      <td>2023</td>\n",
              "      <td>202301</td>\n",
              "      <td>NaN</td>\n",
              "      <td>NaN</td>\n",
              "      <td>NaN</td>\n",
              "      <td>NaN</td>\n",
              "      <td>NaN</td>\n",
              "    </tr>\n",
              "    <tr>\n",
              "      <th>1</th>\n",
              "      <td>Alkoholunfälle</td>\n",
              "      <td>insgesamt</td>\n",
              "      <td>2023</td>\n",
              "      <td>202302</td>\n",
              "      <td>NaN</td>\n",
              "      <td>NaN</td>\n",
              "      <td>NaN</td>\n",
              "      <td>NaN</td>\n",
              "      <td>NaN</td>\n",
              "    </tr>\n",
              "    <tr>\n",
              "      <th>2</th>\n",
              "      <td>Alkoholunfälle</td>\n",
              "      <td>insgesamt</td>\n",
              "      <td>2023</td>\n",
              "      <td>202303</td>\n",
              "      <td>NaN</td>\n",
              "      <td>NaN</td>\n",
              "      <td>NaN</td>\n",
              "      <td>NaN</td>\n",
              "      <td>NaN</td>\n",
              "    </tr>\n",
              "    <tr>\n",
              "      <th>3</th>\n",
              "      <td>Alkoholunfälle</td>\n",
              "      <td>insgesamt</td>\n",
              "      <td>2023</td>\n",
              "      <td>202304</td>\n",
              "      <td>NaN</td>\n",
              "      <td>NaN</td>\n",
              "      <td>NaN</td>\n",
              "      <td>NaN</td>\n",
              "      <td>NaN</td>\n",
              "    </tr>\n",
              "    <tr>\n",
              "      <th>4</th>\n",
              "      <td>Alkoholunfälle</td>\n",
              "      <td>insgesamt</td>\n",
              "      <td>2023</td>\n",
              "      <td>202305</td>\n",
              "      <td>NaN</td>\n",
              "      <td>NaN</td>\n",
              "      <td>NaN</td>\n",
              "      <td>NaN</td>\n",
              "      <td>NaN</td>\n",
              "    </tr>\n",
              "  </tbody>\n",
              "</table>\n",
              "</div>\n",
              "    <div class=\"colab-df-buttons\">\n",
              "\n",
              "  <div class=\"colab-df-container\">\n",
              "    <button class=\"colab-df-convert\" onclick=\"convertToInteractive('df-e41e80f9-c3db-4f16-85b2-8aa0920a4df2')\"\n",
              "            title=\"Convert this dataframe to an interactive table.\"\n",
              "            style=\"display:none;\">\n",
              "\n",
              "  <svg xmlns=\"http://www.w3.org/2000/svg\" height=\"24px\" viewBox=\"0 -960 960 960\">\n",
              "    <path d=\"M120-120v-720h720v720H120Zm60-500h600v-160H180v160Zm220 220h160v-160H400v160Zm0 220h160v-160H400v160ZM180-400h160v-160H180v160Zm440 0h160v-160H620v160ZM180-180h160v-160H180v160Zm440 0h160v-160H620v160Z\"/>\n",
              "  </svg>\n",
              "    </button>\n",
              "\n",
              "  <style>\n",
              "    .colab-df-container {\n",
              "      display:flex;\n",
              "      gap: 12px;\n",
              "    }\n",
              "\n",
              "    .colab-df-convert {\n",
              "      background-color: #E8F0FE;\n",
              "      border: none;\n",
              "      border-radius: 50%;\n",
              "      cursor: pointer;\n",
              "      display: none;\n",
              "      fill: #1967D2;\n",
              "      height: 32px;\n",
              "      padding: 0 0 0 0;\n",
              "      width: 32px;\n",
              "    }\n",
              "\n",
              "    .colab-df-convert:hover {\n",
              "      background-color: #E2EBFA;\n",
              "      box-shadow: 0px 1px 2px rgba(60, 64, 67, 0.3), 0px 1px 3px 1px rgba(60, 64, 67, 0.15);\n",
              "      fill: #174EA6;\n",
              "    }\n",
              "\n",
              "    .colab-df-buttons div {\n",
              "      margin-bottom: 4px;\n",
              "    }\n",
              "\n",
              "    [theme=dark] .colab-df-convert {\n",
              "      background-color: #3B4455;\n",
              "      fill: #D2E3FC;\n",
              "    }\n",
              "\n",
              "    [theme=dark] .colab-df-convert:hover {\n",
              "      background-color: #434B5C;\n",
              "      box-shadow: 0px 1px 3px 1px rgba(0, 0, 0, 0.15);\n",
              "      filter: drop-shadow(0px 1px 2px rgba(0, 0, 0, 0.3));\n",
              "      fill: #FFFFFF;\n",
              "    }\n",
              "  </style>\n",
              "\n",
              "    <script>\n",
              "      const buttonEl =\n",
              "        document.querySelector('#df-e41e80f9-c3db-4f16-85b2-8aa0920a4df2 button.colab-df-convert');\n",
              "      buttonEl.style.display =\n",
              "        google.colab.kernel.accessAllowed ? 'block' : 'none';\n",
              "\n",
              "      async function convertToInteractive(key) {\n",
              "        const element = document.querySelector('#df-e41e80f9-c3db-4f16-85b2-8aa0920a4df2');\n",
              "        const dataTable =\n",
              "          await google.colab.kernel.invokeFunction('convertToInteractive',\n",
              "                                                    [key], {});\n",
              "        if (!dataTable) return;\n",
              "\n",
              "        const docLinkHtml = 'Like what you see? Visit the ' +\n",
              "          '<a target=\"_blank\" href=https://colab.research.google.com/notebooks/data_table.ipynb>data table notebook</a>'\n",
              "          + ' to learn more about interactive tables.';\n",
              "        element.innerHTML = '';\n",
              "        dataTable['output_type'] = 'display_data';\n",
              "        await google.colab.output.renderOutput(dataTable, element);\n",
              "        const docLink = document.createElement('div');\n",
              "        docLink.innerHTML = docLinkHtml;\n",
              "        element.appendChild(docLink);\n",
              "      }\n",
              "    </script>\n",
              "  </div>\n",
              "\n",
              "\n",
              "<div id=\"df-22c69519-9235-4fb1-9f2c-0d86847fd7fe\">\n",
              "  <button class=\"colab-df-quickchart\" onclick=\"quickchart('df-22c69519-9235-4fb1-9f2c-0d86847fd7fe')\"\n",
              "            title=\"Suggest charts\"\n",
              "            style=\"display:none;\">\n",
              "\n",
              "<svg xmlns=\"http://www.w3.org/2000/svg\" height=\"24px\"viewBox=\"0 0 24 24\"\n",
              "     width=\"24px\">\n",
              "    <g>\n",
              "        <path d=\"M19 3H5c-1.1 0-2 .9-2 2v14c0 1.1.9 2 2 2h14c1.1 0 2-.9 2-2V5c0-1.1-.9-2-2-2zM9 17H7v-7h2v7zm4 0h-2V7h2v10zm4 0h-2v-4h2v4z\"/>\n",
              "    </g>\n",
              "</svg>\n",
              "  </button>\n",
              "\n",
              "<style>\n",
              "  .colab-df-quickchart {\n",
              "      --bg-color: #E8F0FE;\n",
              "      --fill-color: #1967D2;\n",
              "      --hover-bg-color: #E2EBFA;\n",
              "      --hover-fill-color: #174EA6;\n",
              "      --disabled-fill-color: #AAA;\n",
              "      --disabled-bg-color: #DDD;\n",
              "  }\n",
              "\n",
              "  [theme=dark] .colab-df-quickchart {\n",
              "      --bg-color: #3B4455;\n",
              "      --fill-color: #D2E3FC;\n",
              "      --hover-bg-color: #434B5C;\n",
              "      --hover-fill-color: #FFFFFF;\n",
              "      --disabled-bg-color: #3B4455;\n",
              "      --disabled-fill-color: #666;\n",
              "  }\n",
              "\n",
              "  .colab-df-quickchart {\n",
              "    background-color: var(--bg-color);\n",
              "    border: none;\n",
              "    border-radius: 50%;\n",
              "    cursor: pointer;\n",
              "    display: none;\n",
              "    fill: var(--fill-color);\n",
              "    height: 32px;\n",
              "    padding: 0;\n",
              "    width: 32px;\n",
              "  }\n",
              "\n",
              "  .colab-df-quickchart:hover {\n",
              "    background-color: var(--hover-bg-color);\n",
              "    box-shadow: 0 1px 2px rgba(60, 64, 67, 0.3), 0 1px 3px 1px rgba(60, 64, 67, 0.15);\n",
              "    fill: var(--button-hover-fill-color);\n",
              "  }\n",
              "\n",
              "  .colab-df-quickchart-complete:disabled,\n",
              "  .colab-df-quickchart-complete:disabled:hover {\n",
              "    background-color: var(--disabled-bg-color);\n",
              "    fill: var(--disabled-fill-color);\n",
              "    box-shadow: none;\n",
              "  }\n",
              "\n",
              "  .colab-df-spinner {\n",
              "    border: 2px solid var(--fill-color);\n",
              "    border-color: transparent;\n",
              "    border-bottom-color: var(--fill-color);\n",
              "    animation:\n",
              "      spin 1s steps(1) infinite;\n",
              "  }\n",
              "\n",
              "  @keyframes spin {\n",
              "    0% {\n",
              "      border-color: transparent;\n",
              "      border-bottom-color: var(--fill-color);\n",
              "      border-left-color: var(--fill-color);\n",
              "    }\n",
              "    20% {\n",
              "      border-color: transparent;\n",
              "      border-left-color: var(--fill-color);\n",
              "      border-top-color: var(--fill-color);\n",
              "    }\n",
              "    30% {\n",
              "      border-color: transparent;\n",
              "      border-left-color: var(--fill-color);\n",
              "      border-top-color: var(--fill-color);\n",
              "      border-right-color: var(--fill-color);\n",
              "    }\n",
              "    40% {\n",
              "      border-color: transparent;\n",
              "      border-right-color: var(--fill-color);\n",
              "      border-top-color: var(--fill-color);\n",
              "    }\n",
              "    60% {\n",
              "      border-color: transparent;\n",
              "      border-right-color: var(--fill-color);\n",
              "    }\n",
              "    80% {\n",
              "      border-color: transparent;\n",
              "      border-right-color: var(--fill-color);\n",
              "      border-bottom-color: var(--fill-color);\n",
              "    }\n",
              "    90% {\n",
              "      border-color: transparent;\n",
              "      border-bottom-color: var(--fill-color);\n",
              "    }\n",
              "  }\n",
              "</style>\n",
              "\n",
              "  <script>\n",
              "    async function quickchart(key) {\n",
              "      const quickchartButtonEl =\n",
              "        document.querySelector('#' + key + ' button');\n",
              "      quickchartButtonEl.disabled = true;  // To prevent multiple clicks.\n",
              "      quickchartButtonEl.classList.add('colab-df-spinner');\n",
              "      try {\n",
              "        const charts = await google.colab.kernel.invokeFunction(\n",
              "            'suggestCharts', [key], {});\n",
              "      } catch (error) {\n",
              "        console.error('Error during call to suggestCharts:', error);\n",
              "      }\n",
              "      quickchartButtonEl.classList.remove('colab-df-spinner');\n",
              "      quickchartButtonEl.classList.add('colab-df-quickchart-complete');\n",
              "    }\n",
              "    (() => {\n",
              "      let quickchartButtonEl =\n",
              "        document.querySelector('#df-22c69519-9235-4fb1-9f2c-0d86847fd7fe button');\n",
              "      quickchartButtonEl.style.display =\n",
              "        google.colab.kernel.accessAllowed ? 'block' : 'none';\n",
              "    })();\n",
              "  </script>\n",
              "</div>\n",
              "    </div>\n",
              "  </div>\n"
            ],
            "text/plain": [
              "       MONATSZAHL AUSPRAEGUNG  JAHR   MONAT  WERT  VORJAHRESWERT  \\\n",
              "0  Alkoholunfälle   insgesamt  2023  202301   NaN            NaN   \n",
              "1  Alkoholunfälle   insgesamt  2023  202302   NaN            NaN   \n",
              "2  Alkoholunfälle   insgesamt  2023  202303   NaN            NaN   \n",
              "3  Alkoholunfälle   insgesamt  2023  202304   NaN            NaN   \n",
              "4  Alkoholunfälle   insgesamt  2023  202305   NaN            NaN   \n",
              "\n",
              "   VERAEND_VORMONAT_PROZENT  VERAEND_VORJAHRESMONAT_PROZENT  \\\n",
              "0                       NaN                             NaN   \n",
              "1                       NaN                             NaN   \n",
              "2                       NaN                             NaN   \n",
              "3                       NaN                             NaN   \n",
              "4                       NaN                             NaN   \n",
              "\n",
              "   ZWOELF_MONATE_MITTELWERT  \n",
              "0                       NaN  \n",
              "1                       NaN  \n",
              "2                       NaN  \n",
              "3                       NaN  \n",
              "4                       NaN  "
            ]
          },
          "execution_count": 12,
          "metadata": {},
          "output_type": "execute_result"
        }
      ],
      "source": [
        "df.head()"
      ]
    },
    {
      "cell_type": "markdown",
      "metadata": {
        "id": "bdDyHdEq9mSf"
      },
      "source": [
        "# Data Filteration\n"
      ]
    },
    {
      "cell_type": "code",
      "execution_count": 13,
      "metadata": {
        "id": "OA0XOC_N9psM"
      },
      "outputs": [],
      "source": [
        "### Select only first five columns\n",
        "df = df.iloc[:,0:5]"
      ]
    },
    {
      "cell_type": "code",
      "execution_count": 14,
      "metadata": {
        "id": "2mqPD2QK-sgz"
      },
      "outputs": [],
      "source": [
        "### Rename columns\n",
        "df = df.rename(columns={\"MONATSZAHL\":\"category\",\"AUSPRAEGUNG\":\"accident_type\",\"JAHR\":\"year\",\"MONAT\":\"month\",\"WERT\":\"value\"})"
      ]
    },
    {
      "cell_type": "code",
      "execution_count": 15,
      "metadata": {
        "id": "-M0lL-aJ9rZG"
      },
      "outputs": [],
      "source": [
        "### Drop non values after 2021\n",
        "df = df[df[\"value\"].notnull()]"
      ]
    },
    {
      "cell_type": "code",
      "execution_count": 16,
      "metadata": {
        "id": "e8SldDgEBwy1"
      },
      "outputs": [],
      "source": [
        "df[\"month\"] = pd.to_datetime(df['month'], format=\"%Y%m\").dt.month"
      ]
    },
    {
      "cell_type": "code",
      "execution_count": 17,
      "metadata": {
        "colab": {
          "base_uri": "https://localhost:8080/",
          "height": 0
        },
        "id": "C6BqjnT6C3Si",
        "outputId": "17c033ea-711c-4be8-ca65-e8ddd050ee29"
      },
      "outputs": [
        {
          "data": {
            "text/html": [
              "\n",
              "  <div id=\"df-0183c766-3664-4208-9818-80c9d28e09f2\" class=\"colab-df-container\">\n",
              "    <div>\n",
              "<style scoped>\n",
              "    .dataframe tbody tr th:only-of-type {\n",
              "        vertical-align: middle;\n",
              "    }\n",
              "\n",
              "    .dataframe tbody tr th {\n",
              "        vertical-align: top;\n",
              "    }\n",
              "\n",
              "    .dataframe thead th {\n",
              "        text-align: right;\n",
              "    }\n",
              "</style>\n",
              "<table border=\"1\" class=\"dataframe\">\n",
              "  <thead>\n",
              "    <tr style=\"text-align: right;\">\n",
              "      <th></th>\n",
              "      <th>category</th>\n",
              "      <th>accident_type</th>\n",
              "      <th>year</th>\n",
              "      <th>month</th>\n",
              "      <th>value</th>\n",
              "    </tr>\n",
              "  </thead>\n",
              "  <tbody>\n",
              "    <tr>\n",
              "      <th>24</th>\n",
              "      <td>Alkoholunfälle</td>\n",
              "      <td>insgesamt</td>\n",
              "      <td>2021</td>\n",
              "      <td>1</td>\n",
              "      <td>16.0</td>\n",
              "    </tr>\n",
              "    <tr>\n",
              "      <th>25</th>\n",
              "      <td>Alkoholunfälle</td>\n",
              "      <td>insgesamt</td>\n",
              "      <td>2021</td>\n",
              "      <td>2</td>\n",
              "      <td>14.0</td>\n",
              "    </tr>\n",
              "    <tr>\n",
              "      <th>26</th>\n",
              "      <td>Alkoholunfälle</td>\n",
              "      <td>insgesamt</td>\n",
              "      <td>2021</td>\n",
              "      <td>3</td>\n",
              "      <td>24.0</td>\n",
              "    </tr>\n",
              "    <tr>\n",
              "      <th>27</th>\n",
              "      <td>Alkoholunfälle</td>\n",
              "      <td>insgesamt</td>\n",
              "      <td>2021</td>\n",
              "      <td>4</td>\n",
              "      <td>16.0</td>\n",
              "    </tr>\n",
              "    <tr>\n",
              "      <th>28</th>\n",
              "      <td>Alkoholunfälle</td>\n",
              "      <td>insgesamt</td>\n",
              "      <td>2021</td>\n",
              "      <td>5</td>\n",
              "      <td>24.0</td>\n",
              "    </tr>\n",
              "  </tbody>\n",
              "</table>\n",
              "</div>\n",
              "    <div class=\"colab-df-buttons\">\n",
              "\n",
              "  <div class=\"colab-df-container\">\n",
              "    <button class=\"colab-df-convert\" onclick=\"convertToInteractive('df-0183c766-3664-4208-9818-80c9d28e09f2')\"\n",
              "            title=\"Convert this dataframe to an interactive table.\"\n",
              "            style=\"display:none;\">\n",
              "\n",
              "  <svg xmlns=\"http://www.w3.org/2000/svg\" height=\"24px\" viewBox=\"0 -960 960 960\">\n",
              "    <path d=\"M120-120v-720h720v720H120Zm60-500h600v-160H180v160Zm220 220h160v-160H400v160Zm0 220h160v-160H400v160ZM180-400h160v-160H180v160Zm440 0h160v-160H620v160ZM180-180h160v-160H180v160Zm440 0h160v-160H620v160Z\"/>\n",
              "  </svg>\n",
              "    </button>\n",
              "\n",
              "  <style>\n",
              "    .colab-df-container {\n",
              "      display:flex;\n",
              "      gap: 12px;\n",
              "    }\n",
              "\n",
              "    .colab-df-convert {\n",
              "      background-color: #E8F0FE;\n",
              "      border: none;\n",
              "      border-radius: 50%;\n",
              "      cursor: pointer;\n",
              "      display: none;\n",
              "      fill: #1967D2;\n",
              "      height: 32px;\n",
              "      padding: 0 0 0 0;\n",
              "      width: 32px;\n",
              "    }\n",
              "\n",
              "    .colab-df-convert:hover {\n",
              "      background-color: #E2EBFA;\n",
              "      box-shadow: 0px 1px 2px rgba(60, 64, 67, 0.3), 0px 1px 3px 1px rgba(60, 64, 67, 0.15);\n",
              "      fill: #174EA6;\n",
              "    }\n",
              "\n",
              "    .colab-df-buttons div {\n",
              "      margin-bottom: 4px;\n",
              "    }\n",
              "\n",
              "    [theme=dark] .colab-df-convert {\n",
              "      background-color: #3B4455;\n",
              "      fill: #D2E3FC;\n",
              "    }\n",
              "\n",
              "    [theme=dark] .colab-df-convert:hover {\n",
              "      background-color: #434B5C;\n",
              "      box-shadow: 0px 1px 3px 1px rgba(0, 0, 0, 0.15);\n",
              "      filter: drop-shadow(0px 1px 2px rgba(0, 0, 0, 0.3));\n",
              "      fill: #FFFFFF;\n",
              "    }\n",
              "  </style>\n",
              "\n",
              "    <script>\n",
              "      const buttonEl =\n",
              "        document.querySelector('#df-0183c766-3664-4208-9818-80c9d28e09f2 button.colab-df-convert');\n",
              "      buttonEl.style.display =\n",
              "        google.colab.kernel.accessAllowed ? 'block' : 'none';\n",
              "\n",
              "      async function convertToInteractive(key) {\n",
              "        const element = document.querySelector('#df-0183c766-3664-4208-9818-80c9d28e09f2');\n",
              "        const dataTable =\n",
              "          await google.colab.kernel.invokeFunction('convertToInteractive',\n",
              "                                                    [key], {});\n",
              "        if (!dataTable) return;\n",
              "\n",
              "        const docLinkHtml = 'Like what you see? Visit the ' +\n",
              "          '<a target=\"_blank\" href=https://colab.research.google.com/notebooks/data_table.ipynb>data table notebook</a>'\n",
              "          + ' to learn more about interactive tables.';\n",
              "        element.innerHTML = '';\n",
              "        dataTable['output_type'] = 'display_data';\n",
              "        await google.colab.output.renderOutput(dataTable, element);\n",
              "        const docLink = document.createElement('div');\n",
              "        docLink.innerHTML = docLinkHtml;\n",
              "        element.appendChild(docLink);\n",
              "      }\n",
              "    </script>\n",
              "  </div>\n",
              "\n",
              "\n",
              "<div id=\"df-77d5876e-ca89-4d05-b098-32d3fcd62d18\">\n",
              "  <button class=\"colab-df-quickchart\" onclick=\"quickchart('df-77d5876e-ca89-4d05-b098-32d3fcd62d18')\"\n",
              "            title=\"Suggest charts\"\n",
              "            style=\"display:none;\">\n",
              "\n",
              "<svg xmlns=\"http://www.w3.org/2000/svg\" height=\"24px\"viewBox=\"0 0 24 24\"\n",
              "     width=\"24px\">\n",
              "    <g>\n",
              "        <path d=\"M19 3H5c-1.1 0-2 .9-2 2v14c0 1.1.9 2 2 2h14c1.1 0 2-.9 2-2V5c0-1.1-.9-2-2-2zM9 17H7v-7h2v7zm4 0h-2V7h2v10zm4 0h-2v-4h2v4z\"/>\n",
              "    </g>\n",
              "</svg>\n",
              "  </button>\n",
              "\n",
              "<style>\n",
              "  .colab-df-quickchart {\n",
              "      --bg-color: #E8F0FE;\n",
              "      --fill-color: #1967D2;\n",
              "      --hover-bg-color: #E2EBFA;\n",
              "      --hover-fill-color: #174EA6;\n",
              "      --disabled-fill-color: #AAA;\n",
              "      --disabled-bg-color: #DDD;\n",
              "  }\n",
              "\n",
              "  [theme=dark] .colab-df-quickchart {\n",
              "      --bg-color: #3B4455;\n",
              "      --fill-color: #D2E3FC;\n",
              "      --hover-bg-color: #434B5C;\n",
              "      --hover-fill-color: #FFFFFF;\n",
              "      --disabled-bg-color: #3B4455;\n",
              "      --disabled-fill-color: #666;\n",
              "  }\n",
              "\n",
              "  .colab-df-quickchart {\n",
              "    background-color: var(--bg-color);\n",
              "    border: none;\n",
              "    border-radius: 50%;\n",
              "    cursor: pointer;\n",
              "    display: none;\n",
              "    fill: var(--fill-color);\n",
              "    height: 32px;\n",
              "    padding: 0;\n",
              "    width: 32px;\n",
              "  }\n",
              "\n",
              "  .colab-df-quickchart:hover {\n",
              "    background-color: var(--hover-bg-color);\n",
              "    box-shadow: 0 1px 2px rgba(60, 64, 67, 0.3), 0 1px 3px 1px rgba(60, 64, 67, 0.15);\n",
              "    fill: var(--button-hover-fill-color);\n",
              "  }\n",
              "\n",
              "  .colab-df-quickchart-complete:disabled,\n",
              "  .colab-df-quickchart-complete:disabled:hover {\n",
              "    background-color: var(--disabled-bg-color);\n",
              "    fill: var(--disabled-fill-color);\n",
              "    box-shadow: none;\n",
              "  }\n",
              "\n",
              "  .colab-df-spinner {\n",
              "    border: 2px solid var(--fill-color);\n",
              "    border-color: transparent;\n",
              "    border-bottom-color: var(--fill-color);\n",
              "    animation:\n",
              "      spin 1s steps(1) infinite;\n",
              "  }\n",
              "\n",
              "  @keyframes spin {\n",
              "    0% {\n",
              "      border-color: transparent;\n",
              "      border-bottom-color: var(--fill-color);\n",
              "      border-left-color: var(--fill-color);\n",
              "    }\n",
              "    20% {\n",
              "      border-color: transparent;\n",
              "      border-left-color: var(--fill-color);\n",
              "      border-top-color: var(--fill-color);\n",
              "    }\n",
              "    30% {\n",
              "      border-color: transparent;\n",
              "      border-left-color: var(--fill-color);\n",
              "      border-top-color: var(--fill-color);\n",
              "      border-right-color: var(--fill-color);\n",
              "    }\n",
              "    40% {\n",
              "      border-color: transparent;\n",
              "      border-right-color: var(--fill-color);\n",
              "      border-top-color: var(--fill-color);\n",
              "    }\n",
              "    60% {\n",
              "      border-color: transparent;\n",
              "      border-right-color: var(--fill-color);\n",
              "    }\n",
              "    80% {\n",
              "      border-color: transparent;\n",
              "      border-right-color: var(--fill-color);\n",
              "      border-bottom-color: var(--fill-color);\n",
              "    }\n",
              "    90% {\n",
              "      border-color: transparent;\n",
              "      border-bottom-color: var(--fill-color);\n",
              "    }\n",
              "  }\n",
              "</style>\n",
              "\n",
              "  <script>\n",
              "    async function quickchart(key) {\n",
              "      const quickchartButtonEl =\n",
              "        document.querySelector('#' + key + ' button');\n",
              "      quickchartButtonEl.disabled = true;  // To prevent multiple clicks.\n",
              "      quickchartButtonEl.classList.add('colab-df-spinner');\n",
              "      try {\n",
              "        const charts = await google.colab.kernel.invokeFunction(\n",
              "            'suggestCharts', [key], {});\n",
              "      } catch (error) {\n",
              "        console.error('Error during call to suggestCharts:', error);\n",
              "      }\n",
              "      quickchartButtonEl.classList.remove('colab-df-spinner');\n",
              "      quickchartButtonEl.classList.add('colab-df-quickchart-complete');\n",
              "    }\n",
              "    (() => {\n",
              "      let quickchartButtonEl =\n",
              "        document.querySelector('#df-77d5876e-ca89-4d05-b098-32d3fcd62d18 button');\n",
              "      quickchartButtonEl.style.display =\n",
              "        google.colab.kernel.accessAllowed ? 'block' : 'none';\n",
              "    })();\n",
              "  </script>\n",
              "</div>\n",
              "    </div>\n",
              "  </div>\n"
            ],
            "text/plain": [
              "          category accident_type  year  month  value\n",
              "24  Alkoholunfälle     insgesamt  2021      1   16.0\n",
              "25  Alkoholunfälle     insgesamt  2021      2   14.0\n",
              "26  Alkoholunfälle     insgesamt  2021      3   24.0\n",
              "27  Alkoholunfälle     insgesamt  2021      4   16.0\n",
              "28  Alkoholunfälle     insgesamt  2021      5   24.0"
            ]
          },
          "execution_count": 17,
          "metadata": {},
          "output_type": "execute_result"
        }
      ],
      "source": [
        "df.head()"
      ]
    },
    {
      "cell_type": "markdown",
      "metadata": {
        "id": "ksJ8qnaDKV-6"
      },
      "source": [
        "# Feature Engineering"
      ]
    },
    {
      "cell_type": "markdown",
      "metadata": {
        "id": "21MWEe3ML_gA"
      },
      "source": [
        "Let's extract the number of holidays in that month in each specific year, we will use the holiday package to determine holidays"
      ]
    },
    {
      "cell_type": "code",
      "execution_count": 18,
      "metadata": {
        "id": "qOX7DKqePF2J"
      },
      "outputs": [],
      "source": [
        "year_values = df[\"year\"].unique()"
      ]
    },
    {
      "cell_type": "code",
      "execution_count": 19,
      "metadata": {
        "id": "k3lakwSMKx8R"
      },
      "outputs": [],
      "source": [
        "holidays_dict = { str(year):{str(i):[] for i in range(1,13)} for year in year_values}\n",
        "for year in list(year_values):\n",
        "  for date, name in sorted(holidays.DE(years=int(year)).items()):\n",
        "    holidays_dict[str(year)][str(date.month)].append(name)"
      ]
    },
    {
      "cell_type": "code",
      "execution_count": 20,
      "metadata": {
        "colab": {
          "base_uri": "https://localhost:8080/"
        },
        "id": "flkQdkoOSenn",
        "outputId": "32ced898-c67d-4b0d-a6e8-193bab6d26e6"
      },
      "outputs": [
        {
          "data": {
            "text/plain": [
              "{'2021': {'1': [\"New Year's Day\"],\n",
              "  '2': [],\n",
              "  '3': [],\n",
              "  '4': ['Good Friday', 'Easter Monday'],\n",
              "  '5': ['Labor Day', 'Ascension Day', 'Whit Monday'],\n",
              "  '6': [],\n",
              "  '7': [],\n",
              "  '8': [],\n",
              "  '9': [],\n",
              "  '10': ['German Unity Day'],\n",
              "  '11': [],\n",
              "  '12': ['Christmas Day', 'Second Day of Christmas']},\n",
              " '2020': {'1': [\"New Year's Day\"],\n",
              "  '2': [],\n",
              "  '3': [],\n",
              "  '4': ['Good Friday', 'Easter Monday'],\n",
              "  '5': ['Labor Day', 'Ascension Day'],\n",
              "  '6': ['Whit Monday'],\n",
              "  '7': [],\n",
              "  '8': [],\n",
              "  '9': [],\n",
              "  '10': ['German Unity Day'],\n",
              "  '11': [],\n",
              "  '12': ['Christmas Day', 'Second Day of Christmas']},\n",
              " '2019': {'1': [\"New Year's Day\"],\n",
              "  '2': [],\n",
              "  '3': [],\n",
              "  '4': ['Good Friday', 'Easter Monday'],\n",
              "  '5': ['Labor Day', 'Ascension Day'],\n",
              "  '6': ['Whit Monday'],\n",
              "  '7': [],\n",
              "  '8': [],\n",
              "  '9': [],\n",
              "  '10': ['German Unity Day'],\n",
              "  '11': [],\n",
              "  '12': ['Christmas Day', 'Second Day of Christmas']},\n",
              " '2018': {'1': [\"New Year's Day\"],\n",
              "  '2': [],\n",
              "  '3': ['Good Friday'],\n",
              "  '4': ['Easter Monday'],\n",
              "  '5': ['Labor Day', 'Ascension Day', 'Whit Monday'],\n",
              "  '6': [],\n",
              "  '7': [],\n",
              "  '8': [],\n",
              "  '9': [],\n",
              "  '10': ['German Unity Day'],\n",
              "  '11': [],\n",
              "  '12': ['Christmas Day', 'Second Day of Christmas']},\n",
              " '2017': {'1': [\"New Year's Day\"],\n",
              "  '2': [],\n",
              "  '3': [],\n",
              "  '4': ['Good Friday', 'Easter Monday'],\n",
              "  '5': ['Labor Day', 'Ascension Day'],\n",
              "  '6': ['Whit Monday'],\n",
              "  '7': [],\n",
              "  '8': [],\n",
              "  '9': [],\n",
              "  '10': ['German Unity Day', 'Reformation Day'],\n",
              "  '11': [],\n",
              "  '12': ['Christmas Day', 'Second Day of Christmas']},\n",
              " '2016': {'1': [\"New Year's Day\"],\n",
              "  '2': [],\n",
              "  '3': ['Good Friday', 'Easter Monday'],\n",
              "  '4': [],\n",
              "  '5': ['Labor Day', 'Ascension Day', 'Whit Monday'],\n",
              "  '6': [],\n",
              "  '7': [],\n",
              "  '8': [],\n",
              "  '9': [],\n",
              "  '10': ['German Unity Day'],\n",
              "  '11': [],\n",
              "  '12': ['Christmas Day', 'Second Day of Christmas']},\n",
              " '2015': {'1': [\"New Year's Day\"],\n",
              "  '2': [],\n",
              "  '3': [],\n",
              "  '4': ['Good Friday', 'Easter Monday'],\n",
              "  '5': ['Labor Day', 'Ascension Day', 'Whit Monday'],\n",
              "  '6': [],\n",
              "  '7': [],\n",
              "  '8': [],\n",
              "  '9': [],\n",
              "  '10': ['German Unity Day'],\n",
              "  '11': [],\n",
              "  '12': ['Christmas Day', 'Second Day of Christmas']},\n",
              " '2014': {'1': [\"New Year's Day\"],\n",
              "  '2': [],\n",
              "  '3': [],\n",
              "  '4': ['Good Friday', 'Easter Monday'],\n",
              "  '5': ['Labor Day', 'Ascension Day'],\n",
              "  '6': ['Whit Monday'],\n",
              "  '7': [],\n",
              "  '8': [],\n",
              "  '9': [],\n",
              "  '10': ['German Unity Day'],\n",
              "  '11': [],\n",
              "  '12': ['Christmas Day', 'Second Day of Christmas']},\n",
              " '2013': {'1': [\"New Year's Day\"],\n",
              "  '2': [],\n",
              "  '3': ['Good Friday'],\n",
              "  '4': ['Easter Monday'],\n",
              "  '5': ['Labor Day', 'Ascension Day', 'Whit Monday'],\n",
              "  '6': [],\n",
              "  '7': [],\n",
              "  '8': [],\n",
              "  '9': [],\n",
              "  '10': ['German Unity Day'],\n",
              "  '11': [],\n",
              "  '12': ['Christmas Day', 'Second Day of Christmas']},\n",
              " '2012': {'1': [\"New Year's Day\"],\n",
              "  '2': [],\n",
              "  '3': [],\n",
              "  '4': ['Good Friday', 'Easter Monday'],\n",
              "  '5': ['Labor Day', 'Ascension Day', 'Whit Monday'],\n",
              "  '6': [],\n",
              "  '7': [],\n",
              "  '8': [],\n",
              "  '9': [],\n",
              "  '10': ['German Unity Day'],\n",
              "  '11': [],\n",
              "  '12': ['Christmas Day', 'Second Day of Christmas']},\n",
              " '2011': {'1': [\"New Year's Day\"],\n",
              "  '2': [],\n",
              "  '3': [],\n",
              "  '4': ['Good Friday', 'Easter Monday'],\n",
              "  '5': ['Labor Day'],\n",
              "  '6': ['Ascension Day', 'Whit Monday'],\n",
              "  '7': [],\n",
              "  '8': [],\n",
              "  '9': [],\n",
              "  '10': ['German Unity Day'],\n",
              "  '11': [],\n",
              "  '12': ['Christmas Day', 'Second Day of Christmas']},\n",
              " '2010': {'1': [\"New Year's Day\"],\n",
              "  '2': [],\n",
              "  '3': [],\n",
              "  '4': ['Good Friday', 'Easter Monday'],\n",
              "  '5': ['Labor Day', 'Ascension Day', 'Whit Monday'],\n",
              "  '6': [],\n",
              "  '7': [],\n",
              "  '8': [],\n",
              "  '9': [],\n",
              "  '10': ['German Unity Day'],\n",
              "  '11': [],\n",
              "  '12': ['Christmas Day', 'Second Day of Christmas']},\n",
              " '2009': {'1': [\"New Year's Day\"],\n",
              "  '2': [],\n",
              "  '3': [],\n",
              "  '4': ['Good Friday', 'Easter Monday'],\n",
              "  '5': ['Labor Day', 'Ascension Day'],\n",
              "  '6': ['Whit Monday'],\n",
              "  '7': [],\n",
              "  '8': [],\n",
              "  '9': [],\n",
              "  '10': ['German Unity Day'],\n",
              "  '11': [],\n",
              "  '12': ['Christmas Day', 'Second Day of Christmas']},\n",
              " '2008': {'1': [\"New Year's Day\"],\n",
              "  '2': [],\n",
              "  '3': ['Good Friday', 'Easter Monday'],\n",
              "  '4': [],\n",
              "  '5': ['Ascension Day; Labor Day', 'Whit Monday'],\n",
              "  '6': [],\n",
              "  '7': [],\n",
              "  '8': [],\n",
              "  '9': [],\n",
              "  '10': ['German Unity Day'],\n",
              "  '11': [],\n",
              "  '12': ['Christmas Day', 'Second Day of Christmas']},\n",
              " '2007': {'1': [\"New Year's Day\"],\n",
              "  '2': [],\n",
              "  '3': [],\n",
              "  '4': ['Good Friday', 'Easter Monday'],\n",
              "  '5': ['Labor Day', 'Ascension Day', 'Whit Monday'],\n",
              "  '6': [],\n",
              "  '7': [],\n",
              "  '8': [],\n",
              "  '9': [],\n",
              "  '10': ['German Unity Day'],\n",
              "  '11': [],\n",
              "  '12': ['Christmas Day', 'Second Day of Christmas']},\n",
              " '2006': {'1': [\"New Year's Day\"],\n",
              "  '2': [],\n",
              "  '3': [],\n",
              "  '4': ['Good Friday', 'Easter Monday'],\n",
              "  '5': ['Labor Day', 'Ascension Day'],\n",
              "  '6': ['Whit Monday'],\n",
              "  '7': [],\n",
              "  '8': [],\n",
              "  '9': [],\n",
              "  '10': ['German Unity Day'],\n",
              "  '11': [],\n",
              "  '12': ['Christmas Day', 'Second Day of Christmas']},\n",
              " '2005': {'1': [\"New Year's Day\"],\n",
              "  '2': [],\n",
              "  '3': ['Good Friday', 'Easter Monday'],\n",
              "  '4': [],\n",
              "  '5': ['Labor Day', 'Ascension Day', 'Whit Monday'],\n",
              "  '6': [],\n",
              "  '7': [],\n",
              "  '8': [],\n",
              "  '9': [],\n",
              "  '10': ['German Unity Day'],\n",
              "  '11': [],\n",
              "  '12': ['Christmas Day', 'Second Day of Christmas']},\n",
              " '2004': {'1': [\"New Year's Day\"],\n",
              "  '2': [],\n",
              "  '3': [],\n",
              "  '4': ['Good Friday', 'Easter Monday'],\n",
              "  '5': ['Labor Day', 'Ascension Day', 'Whit Monday'],\n",
              "  '6': [],\n",
              "  '7': [],\n",
              "  '8': [],\n",
              "  '9': [],\n",
              "  '10': ['German Unity Day'],\n",
              "  '11': [],\n",
              "  '12': ['Christmas Day', 'Second Day of Christmas']},\n",
              " '2003': {'1': [\"New Year's Day\"],\n",
              "  '2': [],\n",
              "  '3': [],\n",
              "  '4': ['Good Friday', 'Easter Monday'],\n",
              "  '5': ['Labor Day', 'Ascension Day'],\n",
              "  '6': ['Whit Monday'],\n",
              "  '7': [],\n",
              "  '8': [],\n",
              "  '9': [],\n",
              "  '10': ['German Unity Day'],\n",
              "  '11': [],\n",
              "  '12': ['Christmas Day', 'Second Day of Christmas']},\n",
              " '2002': {'1': [\"New Year's Day\"],\n",
              "  '2': [],\n",
              "  '3': ['Good Friday'],\n",
              "  '4': ['Easter Monday'],\n",
              "  '5': ['Labor Day', 'Ascension Day', 'Whit Monday'],\n",
              "  '6': [],\n",
              "  '7': [],\n",
              "  '8': [],\n",
              "  '9': [],\n",
              "  '10': ['German Unity Day'],\n",
              "  '11': [],\n",
              "  '12': ['Christmas Day', 'Second Day of Christmas']},\n",
              " '2001': {'1': [\"New Year's Day\"],\n",
              "  '2': [],\n",
              "  '3': [],\n",
              "  '4': ['Good Friday', 'Easter Monday'],\n",
              "  '5': ['Labor Day', 'Ascension Day'],\n",
              "  '6': ['Whit Monday'],\n",
              "  '7': [],\n",
              "  '8': [],\n",
              "  '9': [],\n",
              "  '10': ['German Unity Day'],\n",
              "  '11': [],\n",
              "  '12': ['Christmas Day', 'Second Day of Christmas']},\n",
              " '2000': {'1': [\"New Year's Day\"],\n",
              "  '2': [],\n",
              "  '3': [],\n",
              "  '4': ['Good Friday', 'Easter Monday'],\n",
              "  '5': ['Labor Day'],\n",
              "  '6': ['Ascension Day', 'Whit Monday'],\n",
              "  '7': [],\n",
              "  '8': [],\n",
              "  '9': [],\n",
              "  '10': ['German Unity Day'],\n",
              "  '11': [],\n",
              "  '12': ['Christmas Day', 'Second Day of Christmas']}}"
            ]
          },
          "execution_count": 20,
          "metadata": {},
          "output_type": "execute_result"
        }
      ],
      "source": [
        "holidays_dict"
      ]
    },
    {
      "cell_type": "code",
      "execution_count": 21,
      "metadata": {
        "id": "Gt6gsT9NQoI7"
      },
      "outputs": [],
      "source": [
        "### Adding number of hoildays to the data\n",
        "number_of_holidays = []\n",
        "for idx,row in df.iterrows():\n",
        "  number_of_holidays.append(len(holidays_dict[str(row[\"year\"])][str(row[\"month\"])]))\n",
        "df[\"number_of_holidays\"] = number_of_holidays"
      ]
    },
    {
      "cell_type": "markdown",
      "metadata": {
        "id": "dWf6QgwhTlfv"
      },
      "source": [
        "Let's extract the weather info. The weather data will be approximate. We will set the location Berlin.\n",
        "https://meteostat.net/en/station/10382?t=2023-11-11/2023-11-18"
      ]
    },
    {
      "cell_type": "code",
      "execution_count": 22,
      "metadata": {
        "colab": {
          "base_uri": "https://localhost:8080/"
        },
        "id": "4cBqwNS6UhBM",
        "outputId": "6a18711d-449f-4202-d298-9304a5919f43"
      },
      "outputs": [
        {
          "name": "stderr",
          "output_type": "stream",
          "text": [
            "1848it [02:06, 14.59it/s]\n"
          ]
        }
      ],
      "source": [
        "berlin = Point(52.5667, 13.3167,37)\n",
        "weather_data = []\n",
        "for idx,row in tqdm(df.iterrows()):\n",
        "  start = datetime(row[\"year\"], row[\"month\"],1)\n",
        "  end = datetime(row[\"year\"], row[\"month\"],28)\n",
        "  data = Daily(berlin, start, end)\n",
        "  data = data.fetch()\n",
        "  weather_data.append(data.mean().values)\n"
      ]
    },
    {
      "cell_type": "code",
      "execution_count": 23,
      "metadata": {
        "id": "S5i41QeIWJv1"
      },
      "outputs": [],
      "source": [
        "mean_weather_data = {\"tavg\":[],\"tmin\":[],\"tmax\":[],\"prcp\":[],\"snow\":[],\"wdir\":[],\"wspd\":[],\"wpgt\":[],\"pres\":[],\"tsun\":[]}"
      ]
    },
    {
      "cell_type": "code",
      "execution_count": 24,
      "metadata": {
        "id": "PRk0wj1FWfeG"
      },
      "outputs": [],
      "source": [
        "for x in weather_data:\n",
        "  i =0\n",
        "  for k,v in mean_weather_data.items():\n",
        "    mean_weather_data[k].append(x[i])\n",
        "    i =i+1"
      ]
    },
    {
      "cell_type": "code",
      "execution_count": 25,
      "metadata": {
        "id": "YFwRRURHW0Vb"
      },
      "outputs": [],
      "source": [
        "for k,v in mean_weather_data.items():\n",
        "  df[k] = v"
      ]
    },
    {
      "cell_type": "code",
      "execution_count": 26,
      "metadata": {
        "id": "uwGb1VETJCnP"
      },
      "outputs": [],
      "source": [
        "##getting the average value per month\n",
        "average_value_per_month = df.groupby(\"month\")[\"value\"].agg([\"mean\"]).reset_index()"
      ]
    },
    {
      "cell_type": "code",
      "execution_count": 27,
      "metadata": {
        "colab": {
          "base_uri": "https://localhost:8080/",
          "height": 718
        },
        "id": "Z_uK0TfWFivt",
        "outputId": "d79de154-5f50-4e37-a8e0-9af6b8814f31"
      },
      "outputs": [
        {
          "data": {
            "image/png": "[encoded data removed]",
            "text/plain": [
              "<Figure size 1200x800 with 1 Axes>"
            ]
          },
          "metadata": {},
          "output_type": "display_data"
        }
      ],
      "source": [
        "##plotting the average value per month\n",
        "plt.figure(figsize=(12,8));\n",
        "plt.bar(average_value_per_month['month'],average_value_per_month['mean']);\n",
        "plt.title(\"The Mean value with respect to the Month\");\n",
        "plt.ylabel(\"Mean value (Number of accidents)\");\n",
        "plt.xlabel(\"Month\");\n",
        "plt.xticks(np.arange(1,13));"
      ]
    },
    {
      "cell_type": "markdown",
      "metadata": {
        "id": "to11cHGQJ-kw"
      },
      "source": [
        "Notes:\n",
        "\n",
        "\n",
        "1.   January has the least number of accidents\n",
        "2.   July has the most number of accidents\n",
        "\n"
      ]
    },
    {
      "cell_type": "markdown",
      "metadata": {
        "id": "STY_1OMMSViH"
      },
      "source": [
        "# Data Exploration\n"
      ]
    },
    {
      "cell_type": "code",
      "execution_count": null,
      "metadata": {
        "colab": {
          "base_uri": "https://localhost:8080/"
        },
        "id": "IeYwqNF0Sdfm",
        "outputId": "14354c79-c3a5-4aaa-cfce-d97facae85fc"
      },
      "outputs": [
        {
          "data": {
            "text/plain": [
              "(1848, 5)"
            ]
          },
          "execution_count": 81,
          "metadata": {},
          "output_type": "execute_result"
        }
      ],
      "source": [
        "df.shape"
      ]
    },
    {
      "cell_type": "code",
      "execution_count": null,
      "metadata": {
        "colab": {
          "base_uri": "https://localhost:8080/"
        },
        "id": "4NUwWS8_SY89",
        "outputId": "fc1574d8-9312-4a0c-ef50-cb9e82134dca"
      },
      "outputs": [
        {
          "name": "stdout",
          "output_type": "stream",
          "text": [
            "<class 'pandas.core.frame.DataFrame'>\n",
            "Int64Index: 1848 entries, 24 to 2015\n",
            "Data columns (total 5 columns):\n",
            " #   Column         Non-Null Count  Dtype  \n",
            "---  ------         --------------  -----  \n",
            " 0   category       1848 non-null   object \n",
            " 1   accident_type  1848 non-null   object \n",
            " 2   year           1848 non-null   int64  \n",
            " 3   month          1848 non-null   int64  \n",
            " 4   value          1848 non-null   float64\n",
            "dtypes: float64(1), int64(2), object(2)\n",
            "memory usage: 86.6+ KB\n"
          ]
        }
      ],
      "source": [
        "df.info()"
      ]
    },
    {
      "cell_type": "code",
      "execution_count": null,
      "metadata": {
        "colab": {
          "base_uri": "https://localhost:8080/"
        },
        "id": "WuJNXRyRTOcQ",
        "outputId": "f00de0be-8709-490b-8e8f-a76942f01eb2"
      },
      "outputs": [
        {
          "data": {
            "text/plain": [
              "Verkehrsunfälle    792\n",
              "Alkoholunfälle     528\n",
              "Fluchtunfälle      528\n",
              "Name: category, dtype: int64"
            ]
          },
          "execution_count": 83,
          "metadata": {},
          "output_type": "execute_result"
        }
      ],
      "source": [
        "df[\"category\"].value_counts()"
      ]
    },
    {
      "cell_type": "markdown",
      "metadata": {
        "id": "S1P4sfO2_Lwr"
      },
      "source": [
        "**{\"Verkehrsunfälle\":\"traffic_accidents\",  \n",
        " \"Alkoholunfälle\":\"alcohol_accidents\",  \n",
        " \"Fluchtunfälle\":\"escape_accidents\"}**"
      ]
    },
    {
      "cell_type": "code",
      "execution_count": null,
      "metadata": {
        "colab": {
          "base_uri": "https://localhost:8080/"
        },
        "id": "ydapNyh-Upm4",
        "outputId": "66f16919-8e19-4d09-a178-08cd7cc8a3df"
      },
      "outputs": [
        {
          "data": {
            "text/plain": [
              "insgesamt                 792\n",
              "Verletzte und Getötete    792\n",
              "mit Personenschäden       264\n",
              "Name: accident_type, dtype: int64"
            ]
          },
          "execution_count": 84,
          "metadata": {},
          "output_type": "execute_result"
        }
      ],
      "source": [
        "df[\"accident_type\"].value_counts()"
      ]
    },
    {
      "cell_type": "markdown",
      "metadata": {
        "id": "l8djanHR_bsV"
      },
      "source": [
        "**{\"insgesamt\":\"in_total\",  \n",
        "\"Verletzte und Getötete\":\"Injured and killed\",  \n",
        " \"mit Personenschäden\":\"with personal injuries\"}**"
      ]
    },
    {
      "cell_type": "code",
      "execution_count": null,
      "metadata": {
        "colab": {
          "base_uri": "https://localhost:8080/"
        },
        "id": "1gNBSFgYXQFj",
        "outputId": "5732055e-e89d-4bc4-d282-2327d9689977"
      },
      "outputs": [
        {
          "data": {
            "text/plain": [
              "count    1848.000000\n",
              "mean      776.984848\n",
              "std      1176.030443\n",
              "min         0.000000\n",
              "25%        38.000000\n",
              "50%       358.500000\n",
              "75%       811.000000\n",
              "max      4763.000000\n",
              "Name: value, dtype: float64"
            ]
          },
          "execution_count": 85,
          "metadata": {},
          "output_type": "execute_result"
        }
      ],
      "source": [
        "df[\"value\"].describe()"
      ]
    },
    {
      "cell_type": "code",
      "execution_count": null,
      "metadata": {
        "colab": {
          "base_uri": "https://localhost:8080/"
        },
        "id": "OsPMNmMaGMSC",
        "outputId": "2e02e980-905a-4bef-93f3-7a0363274603"
      },
      "outputs": [
        {
          "data": {
            "text/plain": [
              "1"
            ]
          },
          "execution_count": 86,
          "metadata": {},
          "output_type": "execute_result"
        }
      ],
      "source": [
        "(df[\"value\"]==0.0).sum()"
      ]
    },
    {
      "cell_type": "code",
      "execution_count": null,
      "metadata": {
        "colab": {
          "base_uri": "https://localhost:8080/"
        },
        "id": "6IEHKbsRBkpC",
        "outputId": "dc956ff0-81dd-4fe7-b82c-64272808e783"
      },
      "outputs": [
        {
          "data": {
            "text/plain": [
              "2021    84\n",
              "2020    84\n",
              "2001    84\n",
              "2002    84\n",
              "2003    84\n",
              "2004    84\n",
              "2005    84\n",
              "2006    84\n",
              "2007    84\n",
              "2008    84\n",
              "2009    84\n",
              "2010    84\n",
              "2011    84\n",
              "2012    84\n",
              "2013    84\n",
              "2014    84\n",
              "2015    84\n",
              "2016    84\n",
              "2017    84\n",
              "2018    84\n",
              "2019    84\n",
              "2000    84\n",
              "Name: year, dtype: int64"
            ]
          },
          "execution_count": 87,
          "metadata": {},
          "output_type": "execute_result"
        }
      ],
      "source": [
        "df[\"year\"].value_counts()"
      ]
    },
    {
      "cell_type": "code",
      "execution_count": null,
      "metadata": {
        "colab": {
          "base_uri": "https://localhost:8080/"
        },
        "id": "9e4Iakj-Bon-",
        "outputId": "89da25db-f831-4b57-feac-65dd05c6fdbc"
      },
      "outputs": [
        {
          "data": {
            "text/plain": [
              "1     154\n",
              "2     154\n",
              "3     154\n",
              "4     154\n",
              "5     154\n",
              "6     154\n",
              "7     154\n",
              "8     154\n",
              "9     154\n",
              "10    154\n",
              "11    154\n",
              "12    154\n",
              "Name: month, dtype: int64"
            ]
          },
          "execution_count": 88,
          "metadata": {},
          "output_type": "execute_result"
        }
      ],
      "source": [
        "df[\"month\"].value_counts()"
      ]
    },
    {
      "cell_type": "code",
      "execution_count": null,
      "metadata": {
        "colab": {
          "base_uri": "https://localhost:8080/"
        },
        "id": "X3iG-T54Ghiy",
        "outputId": "a442b600-368d-4583-c835-1f0d45443ba9"
      },
      "outputs": [
        {
          "data": {
            "text/plain": [
              "1     7\n",
              "2     7\n",
              "3     7\n",
              "4     7\n",
              "5     7\n",
              "6     7\n",
              "7     7\n",
              "8     7\n",
              "9     7\n",
              "10    7\n",
              "11    7\n",
              "12    7\n",
              "Name: month, dtype: int64"
            ]
          },
          "execution_count": 89,
          "metadata": {},
          "output_type": "execute_result"
        }
      ],
      "source": [
        "df[df[\"year\"]==2005][\"month\"].value_counts()"
      ]
    },
    {
      "cell_type": "markdown",
      "metadata": {
        "id": "Lj2qpENFGs7L"
      },
      "source": [
        "Notes:  \n",
        "\n",
        "\n",
        "1.   Our data is collected between year 2000 to 2021.\n",
        "2.   We have a 7 samples for each month in each year.\n",
        "3.   Our range of the number accidents is (0-4736) with a mean of 776 and median 358\n",
        "\n"
      ]
    },
    {
      "cell_type": "markdown",
      "metadata": {
        "id": "lOyWDYyFC7yG"
      },
      "source": [
        "## Univariate Exploration\n"
      ]
    },
    {
      "cell_type": "code",
      "execution_count": null,
      "metadata": {
        "colab": {
          "base_uri": "https://localhost:8080/"
        },
        "id": "9eneFTrzErBD",
        "outputId": "d73a1b3f-0c30-413a-d4c8-2e26501f6578"
      },
      "outputs": [
        {
          "data": {
            "text/plain": [
              "<BarContainer object of 3 artists>"
            ]
          },
          "execution_count": 98,
          "metadata": {},
          "output_type": "execute_result"
        },
        {
          "data": {
            "image/png": "[encoded data removed]",
            "text/plain": [
              "<Figure size 640x480 with 1 Axes>"
            ]
          },
          "metadata": {},
          "output_type": "display_data"
        }
      ],
      "source": [
        "unique_values, counts = np.unique(df[\"category\"].values,return_counts=True)\n",
        "plt.bar(x=unique_values,height=counts)"
      ]
    },
    {
      "cell_type": "code",
      "execution_count": null,
      "metadata": {
        "colab": {
          "base_uri": "https://localhost:8080/"
        },
        "id": "eOGKapVNE9mU",
        "outputId": "fd419ec5-c3c3-4f6c-b19f-86cead75a159"
      },
      "outputs": [
        {
          "data": {
            "text/plain": [
              "<BarContainer object of 3 artists>"
            ]
          },
          "execution_count": 99,
          "metadata": {},
          "output_type": "execute_result"
        },
        {
          "data": {
            "image/png": "[encoded data removed]",
            "text/plain": [
              "<Figure size 640x480 with 1 Axes>"
            ]
          },
          "metadata": {},
          "output_type": "display_data"
        }
      ],
      "source": [
        "unique_values, counts = np.unique(df[\"accident_type\"].values,return_counts=True)\n",
        "plt.bar(x=unique_values,height=counts)"
      ]
    },
    {
      "cell_type": "code",
      "execution_count": null,
      "metadata": {
        "colab": {
          "base_uri": "https://localhost:8080/"
        },
        "id": "MVdGTnbXFE4u",
        "outputId": "719bd648-4689-4375-a041-33c9eada11d1"
      },
      "outputs": [
        {
          "data": {
            "image/png": "[encoded data removed]",
            "text/plain": [
              "<Figure size 640x480 with 1 Axes>"
            ]
          },
          "metadata": {},
          "output_type": "display_data"
        }
      ],
      "source": [
        "plt.hist(df[\"value\"].values);"
      ]
    },
    {
      "cell_type": "code",
      "execution_count": null,
      "metadata": {
        "colab": {
          "base_uri": "https://localhost:8080/"
        },
        "id": "TAFzCm5dFJx_",
        "outputId": "46955a21-1ead-45b6-b796-c47d1d6e230e"
      },
      "outputs": [
        {
          "data": {
            "image/png": "[encoded data removed]",
            "text/plain": [
              "<Figure size 640x480 with 1 Axes>"
            ]
          },
          "metadata": {},
          "output_type": "display_data"
        }
      ],
      "source": [
        "plt.hist(df[\"year\"].values);"
      ]
    },
    {
      "cell_type": "code",
      "execution_count": null,
      "metadata": {
        "colab": {
          "base_uri": "https://localhost:8080/"
        },
        "id": "IXomEbFGFMfo",
        "outputId": "1044407f-f44f-451e-a7f8-581e8a497965"
      },
      "outputs": [
        {
          "data": {
            "image/png": "[encoded data removed]",
            "text/plain": [
              "<Figure size 640x480 with 1 Axes>"
            ]
          },
          "metadata": {},
          "output_type": "display_data"
        }
      ],
      "source": [
        "plt.hist(df[\"month\"].values);"
      ]
    },
    {
      "cell_type": "code",
      "execution_count": null,
      "metadata": {
        "colab": {
          "base_uri": "https://localhost:8080/"
        },
        "id": "wHWX7VTLRMbT",
        "outputId": "0c890a8e-bcde-4212-dd76-53673ab65949"
      },
      "outputs": [
        {
          "data": {
            "image/png": "[encoded data removed]",
            "text/plain": [
              "<Figure size 640x480 with 1 Axes>"
            ]
          },
          "metadata": {},
          "output_type": "display_data"
        }
      ],
      "source": [
        "plt.hist(df[\"number_of_holidays\"].values);"
      ]
    },
    {
      "cell_type": "markdown",
      "metadata": {
        "id": "UxeP1rlwFdcu"
      },
      "source": [
        "## Bivariate Exploration"
      ]
    },
    {
      "cell_type": "markdown",
      "metadata": {
        "id": "5UJCem-cHcWU"
      },
      "source": [
        "# Correlation"
      ]
    },
    {
      "cell_type": "code",
      "execution_count": 51,
      "metadata": {
        "colab": {
          "base_uri": "https://localhost:8080/",
          "height": 0
        },
        "id": "o9KJGRD7XSk_",
        "outputId": "a9f67a12-f79a-4f17-9c90-f568cd7e6115"
      },
      "outputs": [
        {
          "name": "stderr",
          "output_type": "stream",
          "text": [
            "FutureWarning: The default value of numeric_only in DataFrame.corr is deprecated. In a future version, it will default to False. Select only valid columns or specify the value of numeric_only to silence this warning.\n"
          ]
        },
        {
          "data": {
            "text/html": [
              "\n",
              "  <div id=\"df-55158677-ca1f-4f3b-bcf3-83ee8fb7b9c7\" class=\"colab-df-container\">\n",
              "    <div>\n",
              "<style scoped>\n",
              "    .dataframe tbody tr th:only-of-type {\n",
              "        vertical-align: middle;\n",
              "    }\n",
              "\n",
              "    .dataframe tbody tr th {\n",
              "        vertical-align: top;\n",
              "    }\n",
              "\n",
              "    .dataframe thead th {\n",
              "        text-align: right;\n",
              "    }\n",
              "</style>\n",
              "<table border=\"1\" class=\"dataframe\">\n",
              "  <thead>\n",
              "    <tr style=\"text-align: right;\">\n",
              "      <th></th>\n",
              "      <th>year</th>\n",
              "      <th>month</th>\n",
              "      <th>value</th>\n",
              "      <th>number_of_holidays</th>\n",
              "      <th>tavg</th>\n",
              "      <th>tmin</th>\n",
              "      <th>tmax</th>\n",
              "      <th>prcp</th>\n",
              "      <th>snow</th>\n",
              "      <th>wdir</th>\n",
              "      <th>wspd</th>\n",
              "      <th>wpgt</th>\n",
              "      <th>pres</th>\n",
              "      <th>tsun</th>\n",
              "    </tr>\n",
              "  </thead>\n",
              "  <tbody>\n",
              "    <tr>\n",
              "      <th>year</th>\n",
              "      <td>1.000000e+00</td>\n",
              "      <td>-7.893220e-16</td>\n",
              "      <td>0.007348</td>\n",
              "      <td>0.005866</td>\n",
              "      <td>0.034453</td>\n",
              "      <td>0.013601</td>\n",
              "      <td>0.046659</td>\n",
              "      <td>-0.086164</td>\n",
              "      <td>-0.045803</td>\n",
              "      <td>-0.030454</td>\n",
              "      <td>0.025296</td>\n",
              "      <td>0.082217</td>\n",
              "      <td>0.006417</td>\n",
              "      <td>0.033627</td>\n",
              "    </tr>\n",
              "    <tr>\n",
              "      <th>month</th>\n",
              "      <td>-7.893220e-16</td>\n",
              "      <td>1.000000e+00</td>\n",
              "      <td>0.034278</td>\n",
              "      <td>-0.003594</td>\n",
              "      <td>0.240193</td>\n",
              "      <td>0.304043</td>\n",
              "      <td>0.197707</td>\n",
              "      <td>0.077569</td>\n",
              "      <td>-0.175962</td>\n",
              "      <td>-0.063208</td>\n",
              "      <td>-0.204986</td>\n",
              "      <td>-0.236779</td>\n",
              "      <td>-0.031922</td>\n",
              "      <td>-0.072785</td>\n",
              "    </tr>\n",
              "    <tr>\n",
              "      <th>value</th>\n",
              "      <td>7.348412e-03</td>\n",
              "      <td>3.427822e-02</td>\n",
              "      <td>1.000000</td>\n",
              "      <td>-0.008153</td>\n",
              "      <td>0.053669</td>\n",
              "      <td>0.053750</td>\n",
              "      <td>0.052913</td>\n",
              "      <td>0.009289</td>\n",
              "      <td>-0.028150</td>\n",
              "      <td>0.000212</td>\n",
              "      <td>-0.028215</td>\n",
              "      <td>-0.001745</td>\n",
              "      <td>-0.000102</td>\n",
              "      <td>0.037810</td>\n",
              "    </tr>\n",
              "    <tr>\n",
              "      <th>number_of_holidays</th>\n",
              "      <td>5.866387e-03</td>\n",
              "      <td>-3.593809e-03</td>\n",
              "      <td>-0.008153</td>\n",
              "      <td>1.000000</td>\n",
              "      <td>-0.180426</td>\n",
              "      <td>-0.211587</td>\n",
              "      <td>-0.168748</td>\n",
              "      <td>-0.113374</td>\n",
              "      <td>0.036438</td>\n",
              "      <td>-0.031296</td>\n",
              "      <td>0.138236</td>\n",
              "      <td>0.130570</td>\n",
              "      <td>-0.017464</td>\n",
              "      <td>-0.048890</td>\n",
              "    </tr>\n",
              "    <tr>\n",
              "      <th>tavg</th>\n",
              "      <td>3.445251e-02</td>\n",
              "      <td>2.401930e-01</td>\n",
              "      <td>0.053669</td>\n",
              "      <td>-0.180426</td>\n",
              "      <td>1.000000</td>\n",
              "      <td>0.989771</td>\n",
              "      <td>0.995924</td>\n",
              "      <td>0.252508</td>\n",
              "      <td>-0.376551</td>\n",
              "      <td>0.065233</td>\n",
              "      <td>-0.439881</td>\n",
              "      <td>0.095375</td>\n",
              "      <td>-0.082151</td>\n",
              "      <td>0.823376</td>\n",
              "    </tr>\n",
              "    <tr>\n",
              "      <th>tmin</th>\n",
              "      <td>1.360082e-02</td>\n",
              "      <td>3.040426e-01</td>\n",
              "      <td>0.053750</td>\n",
              "      <td>-0.211587</td>\n",
              "      <td>0.989771</td>\n",
              "      <td>1.000000</td>\n",
              "      <td>0.973955</td>\n",
              "      <td>0.304365</td>\n",
              "      <td>-0.381078</td>\n",
              "      <td>0.075326</td>\n",
              "      <td>-0.413394</td>\n",
              "      <td>0.081862</td>\n",
              "      <td>-0.123561</td>\n",
              "      <td>0.745702</td>\n",
              "    </tr>\n",
              "    <tr>\n",
              "      <th>tmax</th>\n",
              "      <td>4.665858e-02</td>\n",
              "      <td>1.977068e-01</td>\n",
              "      <td>0.052913</td>\n",
              "      <td>-0.168748</td>\n",
              "      <td>0.995924</td>\n",
              "      <td>0.973955</td>\n",
              "      <td>1.000000</td>\n",
              "      <td>0.221262</td>\n",
              "      <td>-0.371706</td>\n",
              "      <td>0.056838</td>\n",
              "      <td>-0.452077</td>\n",
              "      <td>0.102300</td>\n",
              "      <td>-0.057622</td>\n",
              "      <td>0.861111</td>\n",
              "    </tr>\n",
              "    <tr>\n",
              "      <th>prcp</th>\n",
              "      <td>-8.616378e-02</td>\n",
              "      <td>7.756865e-02</td>\n",
              "      <td>0.009289</td>\n",
              "      <td>-0.113374</td>\n",
              "      <td>0.252508</td>\n",
              "      <td>0.304365</td>\n",
              "      <td>0.221262</td>\n",
              "      <td>1.000000</td>\n",
              "      <td>-0.104968</td>\n",
              "      <td>0.224574</td>\n",
              "      <td>0.065719</td>\n",
              "      <td>0.223743</td>\n",
              "      <td>-0.381625</td>\n",
              "      <td>0.005692</td>\n",
              "    </tr>\n",
              "    <tr>\n",
              "      <th>snow</th>\n",
              "      <td>-4.580253e-02</td>\n",
              "      <td>-1.759618e-01</td>\n",
              "      <td>-0.028150</td>\n",
              "      <td>0.036438</td>\n",
              "      <td>-0.376551</td>\n",
              "      <td>-0.381078</td>\n",
              "      <td>-0.371706</td>\n",
              "      <td>-0.104968</td>\n",
              "      <td>1.000000</td>\n",
              "      <td>-0.174449</td>\n",
              "      <td>-0.004706</td>\n",
              "      <td>-0.192292</td>\n",
              "      <td>-0.082901</td>\n",
              "      <td>-0.248570</td>\n",
              "    </tr>\n",
              "    <tr>\n",
              "      <th>wdir</th>\n",
              "      <td>-3.045409e-02</td>\n",
              "      <td>-6.320817e-02</td>\n",
              "      <td>0.000212</td>\n",
              "      <td>-0.031296</td>\n",
              "      <td>0.065233</td>\n",
              "      <td>0.075326</td>\n",
              "      <td>0.056838</td>\n",
              "      <td>0.224574</td>\n",
              "      <td>-0.174449</td>\n",
              "      <td>1.000000</td>\n",
              "      <td>0.369277</td>\n",
              "      <td>0.441815</td>\n",
              "      <td>-0.081768</td>\n",
              "      <td>-0.099638</td>\n",
              "    </tr>\n",
              "    <tr>\n",
              "      <th>wspd</th>\n",
              "      <td>2.529585e-02</td>\n",
              "      <td>-2.049856e-01</td>\n",
              "      <td>-0.028215</td>\n",
              "      <td>0.138236</td>\n",
              "      <td>-0.439881</td>\n",
              "      <td>-0.413394</td>\n",
              "      <td>-0.452077</td>\n",
              "      <td>0.065719</td>\n",
              "      <td>-0.004706</td>\n",
              "      <td>0.369277</td>\n",
              "      <td>1.000000</td>\n",
              "      <td>0.750661</td>\n",
              "      <td>-0.178828</td>\n",
              "      <td>-0.486811</td>\n",
              "    </tr>\n",
              "    <tr>\n",
              "      <th>wpgt</th>\n",
              "      <td>8.221701e-02</td>\n",
              "      <td>-2.367793e-01</td>\n",
              "      <td>-0.001745</td>\n",
              "      <td>0.130570</td>\n",
              "      <td>0.095375</td>\n",
              "      <td>0.081862</td>\n",
              "      <td>0.102300</td>\n",
              "      <td>0.223743</td>\n",
              "      <td>-0.192292</td>\n",
              "      <td>0.441815</td>\n",
              "      <td>0.750661</td>\n",
              "      <td>1.000000</td>\n",
              "      <td>-0.229014</td>\n",
              "      <td>0.062742</td>\n",
              "    </tr>\n",
              "    <tr>\n",
              "      <th>pres</th>\n",
              "      <td>6.416615e-03</td>\n",
              "      <td>-3.192224e-02</td>\n",
              "      <td>-0.000102</td>\n",
              "      <td>-0.017464</td>\n",
              "      <td>-0.082151</td>\n",
              "      <td>-0.123561</td>\n",
              "      <td>-0.057622</td>\n",
              "      <td>-0.381625</td>\n",
              "      <td>-0.082901</td>\n",
              "      <td>-0.081768</td>\n",
              "      <td>-0.178828</td>\n",
              "      <td>-0.229014</td>\n",
              "      <td>1.000000</td>\n",
              "      <td>0.106039</td>\n",
              "    </tr>\n",
              "    <tr>\n",
              "      <th>tsun</th>\n",
              "      <td>3.362708e-02</td>\n",
              "      <td>-7.278545e-02</td>\n",
              "      <td>0.037810</td>\n",
              "      <td>-0.048890</td>\n",
              "      <td>0.823376</td>\n",
              "      <td>0.745702</td>\n",
              "      <td>0.861111</td>\n",
              "      <td>0.005692</td>\n",
              "      <td>-0.248570</td>\n",
              "      <td>-0.099638</td>\n",
              "      <td>-0.486811</td>\n",
              "      <td>0.062742</td>\n",
              "      <td>0.106039</td>\n",
              "      <td>1.000000</td>\n",
              "    </tr>\n",
              "  </tbody>\n",
              "</table>\n",
              "</div>\n",
              "    <div class=\"colab-df-buttons\">\n",
              "\n",
              "  <div class=\"colab-df-container\">\n",
              "    <button class=\"colab-df-convert\" onclick=\"convertToInteractive('df-55158677-ca1f-4f3b-bcf3-83ee8fb7b9c7')\"\n",
              "            title=\"Convert this dataframe to an interactive table.\"\n",
              "            style=\"display:none;\">\n",
              "\n",
              "  <svg xmlns=\"http://www.w3.org/2000/svg\" height=\"24px\" viewBox=\"0 -960 960 960\">\n",
              "    <path d=\"M120-120v-720h720v720H120Zm60-500h600v-160H180v160Zm220 220h160v-160H400v160Zm0 220h160v-160H400v160ZM180-400h160v-160H180v160Zm440 0h160v-160H620v160ZM180-180h160v-160H180v160Zm440 0h160v-160H620v160Z\"/>\n",
              "  </svg>\n",
              "    </button>\n",
              "\n",
              "  <style>\n",
              "    .colab-df-container {\n",
              "      display:flex;\n",
              "      gap: 12px;\n",
              "    }\n",
              "\n",
              "    .colab-df-convert {\n",
              "      background-color: #E8F0FE;\n",
              "      border: none;\n",
              "      border-radius: 50%;\n",
              "      cursor: pointer;\n",
              "      display: none;\n",
              "      fill: #1967D2;\n",
              "      height: 32px;\n",
              "      padding: 0 0 0 0;\n",
              "      width: 32px;\n",
              "    }\n",
              "\n",
              "    .colab-df-convert:hover {\n",
              "      background-color: #E2EBFA;\n",
              "      box-shadow: 0px 1px 2px rgba(60, 64, 67, 0.3), 0px 1px 3px 1px rgba(60, 64, 67, 0.15);\n",
              "      fill: #174EA6;\n",
              "    }\n",
              "\n",
              "    .colab-df-buttons div {\n",
              "      margin-bottom: 4px;\n",
              "    }\n",
              "\n",
              "    [theme=dark] .colab-df-convert {\n",
              "      background-color: #3B4455;\n",
              "      fill: #D2E3FC;\n",
              "    }\n",
              "\n",
              "    [theme=dark] .colab-df-convert:hover {\n",
              "      background-color: #434B5C;\n",
              "      box-shadow: 0px 1px 3px 1px rgba(0, 0, 0, 0.15);\n",
              "      filter: drop-shadow(0px 1px 2px rgba(0, 0, 0, 0.3));\n",
              "      fill: #FFFFFF;\n",
              "    }\n",
              "  </style>\n",
              "\n",
              "    <script>\n",
              "      const buttonEl =\n",
              "        document.querySelector('#df-55158677-ca1f-4f3b-bcf3-83ee8fb7b9c7 button.colab-df-convert');\n",
              "      buttonEl.style.display =\n",
              "        google.colab.kernel.accessAllowed ? 'block' : 'none';\n",
              "\n",
              "      async function convertToInteractive(key) {\n",
              "        const element = document.querySelector('#df-55158677-ca1f-4f3b-bcf3-83ee8fb7b9c7');\n",
              "        const dataTable =\n",
              "          await google.colab.kernel.invokeFunction('convertToInteractive',\n",
              "                                                    [key], {});\n",
              "        if (!dataTable) return;\n",
              "\n",
              "        const docLinkHtml = 'Like what you see? Visit the ' +\n",
              "          '<a target=\"_blank\" href=https://colab.research.google.com/notebooks/data_table.ipynb>data table notebook</a>'\n",
              "          + ' to learn more about interactive tables.';\n",
              "        element.innerHTML = '';\n",
              "        dataTable['output_type'] = 'display_data';\n",
              "        await google.colab.output.renderOutput(dataTable, element);\n",
              "        const docLink = document.createElement('div');\n",
              "        docLink.innerHTML = docLinkHtml;\n",
              "        element.appendChild(docLink);\n",
              "      }\n",
              "    </script>\n",
              "  </div>\n",
              "\n",
              "\n",
              "<div id=\"df-5fcee260-8896-4191-acc1-d8114fbe9c71\">\n",
              "  <button class=\"colab-df-quickchart\" onclick=\"quickchart('df-5fcee260-8896-4191-acc1-d8114fbe9c71')\"\n",
              "            title=\"Suggest charts\"\n",
              "            style=\"display:none;\">\n",
              "\n",
              "<svg xmlns=\"http://www.w3.org/2000/svg\" height=\"24px\"viewBox=\"0 0 24 24\"\n",
              "     width=\"24px\">\n",
              "    <g>\n",
              "        <path d=\"M19 3H5c-1.1 0-2 .9-2 2v14c0 1.1.9 2 2 2h14c1.1 0 2-.9 2-2V5c0-1.1-.9-2-2-2zM9 17H7v-7h2v7zm4 0h-2V7h2v10zm4 0h-2v-4h2v4z\"/>\n",
              "    </g>\n",
              "</svg>\n",
              "  </button>\n",
              "\n",
              "<style>\n",
              "  .colab-df-quickchart {\n",
              "      --bg-color: #E8F0FE;\n",
              "      --fill-color: #1967D2;\n",
              "      --hover-bg-color: #E2EBFA;\n",
              "      --hover-fill-color: #174EA6;\n",
              "      --disabled-fill-color: #AAA;\n",
              "      --disabled-bg-color: #DDD;\n",
              "  }\n",
              "\n",
              "  [theme=dark] .colab-df-quickchart {\n",
              "      --bg-color: #3B4455;\n",
              "      --fill-color: #D2E3FC;\n",
              "      --hover-bg-color: #434B5C;\n",
              "      --hover-fill-color: #FFFFFF;\n",
              "      --disabled-bg-color: #3B4455;\n",
              "      --disabled-fill-color: #666;\n",
              "  }\n",
              "\n",
              "  .colab-df-quickchart {\n",
              "    background-color: var(--bg-color);\n",
              "    border: none;\n",
              "    border-radius: 50%;\n",
              "    cursor: pointer;\n",
              "    display: none;\n",
              "    fill: var(--fill-color);\n",
              "    height: 32px;\n",
              "    padding: 0;\n",
              "    width: 32px;\n",
              "  }\n",
              "\n",
              "  .colab-df-quickchart:hover {\n",
              "    background-color: var(--hover-bg-color);\n",
              "    box-shadow: 0 1px 2px rgba(60, 64, 67, 0.3), 0 1px 3px 1px rgba(60, 64, 67, 0.15);\n",
              "    fill: var(--button-hover-fill-color);\n",
              "  }\n",
              "\n",
              "  .colab-df-quickchart-complete:disabled,\n",
              "  .colab-df-quickchart-complete:disabled:hover {\n",
              "    background-color: var(--disabled-bg-color);\n",
              "    fill: var(--disabled-fill-color);\n",
              "    box-shadow: none;\n",
              "  }\n",
              "\n",
              "  .colab-df-spinner {\n",
              "    border: 2px solid var(--fill-color);\n",
              "    border-color: transparent;\n",
              "    border-bottom-color: var(--fill-color);\n",
              "    animation:\n",
              "      spin 1s steps(1) infinite;\n",
              "  }\n",
              "\n",
              "  @keyframes spin {\n",
              "    0% {\n",
              "      border-color: transparent;\n",
              "      border-bottom-color: var(--fill-color);\n",
              "      border-left-color: var(--fill-color);\n",
              "    }\n",
              "    20% {\n",
              "      border-color: transparent;\n",
              "      border-left-color: var(--fill-color);\n",
              "      border-top-color: var(--fill-color);\n",
              "    }\n",
              "    30% {\n",
              "      border-color: transparent;\n",
              "      border-left-color: var(--fill-color);\n",
              "      border-top-color: var(--fill-color);\n",
              "      border-right-color: var(--fill-color);\n",
              "    }\n",
              "    40% {\n",
              "      border-color: transparent;\n",
              "      border-right-color: var(--fill-color);\n",
              "      border-top-color: var(--fill-color);\n",
              "    }\n",
              "    60% {\n",
              "      border-color: transparent;\n",
              "      border-right-color: var(--fill-color);\n",
              "    }\n",
              "    80% {\n",
              "      border-color: transparent;\n",
              "      border-right-color: var(--fill-color);\n",
              "      border-bottom-color: var(--fill-color);\n",
              "    }\n",
              "    90% {\n",
              "      border-color: transparent;\n",
              "      border-bottom-color: var(--fill-color);\n",
              "    }\n",
              "  }\n",
              "</style>\n",
              "\n",
              "  <script>\n",
              "    async function quickchart(key) {\n",
              "      const quickchartButtonEl =\n",
              "        document.querySelector('#' + key + ' button');\n",
              "      quickchartButtonEl.disabled = true;  // To prevent multiple clicks.\n",
              "      quickchartButtonEl.classList.add('colab-df-spinner');\n",
              "      try {\n",
              "        const charts = await google.colab.kernel.invokeFunction(\n",
              "            'suggestCharts', [key], {});\n",
              "      } catch (error) {\n",
              "        console.error('Error during call to suggestCharts:', error);\n",
              "      }\n",
              "      quickchartButtonEl.classList.remove('colab-df-spinner');\n",
              "      quickchartButtonEl.classList.add('colab-df-quickchart-complete');\n",
              "    }\n",
              "    (() => {\n",
              "      let quickchartButtonEl =\n",
              "        document.querySelector('#df-5fcee260-8896-4191-acc1-d8114fbe9c71 button');\n",
              "      quickchartButtonEl.style.display =\n",
              "        google.colab.kernel.accessAllowed ? 'block' : 'none';\n",
              "    })();\n",
              "  </script>\n",
              "</div>\n",
              "    </div>\n",
              "  </div>\n"
            ],
            "text/plain": [
              "                            year         month     value  number_of_holidays  \\\n",
              "year                1.000000e+00 -7.893220e-16  0.007348            0.005866   \n",
              "month              -7.893220e-16  1.000000e+00  0.034278           -0.003594   \n",
              "value               7.348412e-03  3.427822e-02  1.000000           -0.008153   \n",
              "number_of_holidays  5.866387e-03 -3.593809e-03 -0.008153            1.000000   \n",
              "tavg                3.445251e-02  2.401930e-01  0.053669           -0.180426   \n",
              "tmin                1.360082e-02  3.040426e-01  0.053750           -0.211587   \n",
              "tmax                4.665858e-02  1.977068e-01  0.052913           -0.168748   \n",
              "prcp               -8.616378e-02  7.756865e-02  0.009289           -0.113374   \n",
              "snow               -4.580253e-02 -1.759618e-01 -0.028150            0.036438   \n",
              "wdir               -3.045409e-02 -6.320817e-02  0.000212           -0.031296   \n",
              "wspd                2.529585e-02 -2.049856e-01 -0.028215            0.138236   \n",
              "wpgt                8.221701e-02 -2.367793e-01 -0.001745            0.130570   \n",
              "pres                6.416615e-03 -3.192224e-02 -0.000102           -0.017464   \n",
              "tsun                3.362708e-02 -7.278545e-02  0.037810           -0.048890   \n",
              "\n",
              "                        tavg      tmin      tmax      prcp      snow  \\\n",
              "year                0.034453  0.013601  0.046659 -0.086164 -0.045803   \n",
              "month               0.240193  0.304043  0.197707  0.077569 -0.175962   \n",
              "value               0.053669  0.053750  0.052913  0.009289 -0.028150   \n",
              "number_of_holidays -0.180426 -0.211587 -0.168748 -0.113374  0.036438   \n",
              "tavg                1.000000  0.989771  0.995924  0.252508 -0.376551   \n",
              "tmin                0.989771  1.000000  0.973955  0.304365 -0.381078   \n",
              "tmax                0.995924  0.973955  1.000000  0.221262 -0.371706   \n",
              "prcp                0.252508  0.304365  0.221262  1.000000 -0.104968   \n",
              "snow               -0.376551 -0.381078 -0.371706 -0.104968  1.000000   \n",
              "wdir                0.065233  0.075326  0.056838  0.224574 -0.174449   \n",
              "wspd               -0.439881 -0.413394 -0.452077  0.065719 -0.004706   \n",
              "wpgt                0.095375  0.081862  0.102300  0.223743 -0.192292   \n",
              "pres               -0.082151 -0.123561 -0.057622 -0.381625 -0.082901   \n",
              "tsun                0.823376  0.745702  0.861111  0.005692 -0.248570   \n",
              "\n",
              "                        wdir      wspd      wpgt      pres      tsun  \n",
              "year               -0.030454  0.025296  0.082217  0.006417  0.033627  \n",
              "month              -0.063208 -0.204986 -0.236779 -0.031922 -0.072785  \n",
              "value               0.000212 -0.028215 -0.001745 -0.000102  0.037810  \n",
              "number_of_holidays -0.031296  0.138236  0.130570 -0.017464 -0.048890  \n",
              "tavg                0.065233 -0.439881  0.095375 -0.082151  0.823376  \n",
              "tmin                0.075326 -0.413394  0.081862 -0.123561  0.745702  \n",
              "tmax                0.056838 -0.452077  0.102300 -0.057622  0.861111  \n",
              "prcp                0.224574  0.065719  0.223743 -0.381625  0.005692  \n",
              "snow               -0.174449 -0.004706 -0.192292 -0.082901 -0.248570  \n",
              "wdir                1.000000  0.369277  0.441815 -0.081768 -0.099638  \n",
              "wspd                0.369277  1.000000  0.750661 -0.178828 -0.486811  \n",
              "wpgt                0.441815  0.750661  1.000000 -0.229014  0.062742  \n",
              "pres               -0.081768 -0.178828 -0.229014  1.000000  0.106039  \n",
              "tsun               -0.099638 -0.486811  0.062742  0.106039  1.000000  "
            ]
          },
          "execution_count": 51,
          "metadata": {},
          "output_type": "execute_result"
        }
      ],
      "source": [
        "corrMatrix=df.corr()\n",
        "corrMatrix"
      ]
    },
    {
      "cell_type": "code",
      "execution_count": 52,
      "metadata": {
        "colab": {
          "base_uri": "https://localhost:8080/",
          "height": 0
        },
        "id": "nTqWK9u9Hpg6",
        "outputId": "3412be09-4362-4e59-9f18-1e9cca4beee3"
      },
      "outputs": [
        {
          "name": "stderr",
          "output_type": "stream",
          "text": [
            "FutureWarning: The default value of numeric_only in DataFrame.corr is deprecated. In a future version, it will default to False. Select only valid columns or specify the value of numeric_only to silence this warning.\n"
          ]
        },
        {
          "data": {
            "image/png": "[encoded data removed]",
            "text/plain": [
              "<Figure size 1000x1000 with 2 Axes>"
            ]
          },
          "metadata": {},
          "output_type": "display_data"
        }
      ],
      "source": [
        "corrMatrix=df.corr()\n",
        "plt.figure(figsize=(10,10));\n",
        "sn.heatmap(corrMatrix,annot=True);"
      ]
    },
    {
      "cell_type": "markdown",
      "metadata": {
        "id": "OHSRPmz_IBM-"
      },
      "source": [
        "Notes:\n",
        "\n",
        "\n",
        "1.   There are low correlation among features\n",
        "2.   There are also low correlation between label \"value\" and the other features.\n",
        "3.   \"month\" is the most correlated feature with the label \"value\"\n",
        "4.   We can notice the negative correlation between the number of holidays and the label \"value\"\n",
        "\n"
      ]
    },
    {
      "cell_type": "markdown",
      "metadata": {
        "id": "h5H5-I3nAfMW"
      },
      "source": [
        "# Feature Selection"
      ]
    },
    {
      "cell_type": "code",
      "execution_count": 53,
      "metadata": {
        "id": "fO88nuRV9rNN"
      },
      "outputs": [],
      "source": [
        "corr_with_label = 0.0005  #correlation threshold for target\n",
        "corr_between_features = 0.75 #correlation threshold between features\n",
        "# drop less correlated ones with target\n",
        "corr_target = abs(corrMatrix['value'])"
      ]
    },
    {
      "cell_type": "code",
      "execution_count": 54,
      "metadata": {
        "colab": {
          "base_uri": "https://localhost:8080/"
        },
        "id": "CI8DBtF2-IPR",
        "outputId": "a1aa535e-1b39-4d01-985c-acbf0f2b92fa"
      },
      "outputs": [
        {
          "name": "stdout",
          "output_type": "stream",
          "text": [
            "Selected Columns after filtering correlation with target Index(['year', 'month', 'value', 'number_of_holidays', 'tavg', 'tmin', 'tmax',\n",
            "       'prcp', 'snow', 'wspd', 'wpgt', 'tsun'],\n",
            "      dtype='object')\n"
          ]
        }
      ],
      "source": [
        "relevant_features = corr_target[corr_target > corr_with_label]\n",
        "df_selected = df[list(relevant_features.index)]\n",
        "print('Selected Columns after filtering correlation with target', df_selected.columns)"
      ]
    },
    {
      "cell_type": "code",
      "execution_count": 55,
      "metadata": {
        "id": "sgLoYBqe_ucY"
      },
      "outputs": [],
      "source": [
        "df_selected_label = df_selected[\"value\"].values"
      ]
    },
    {
      "cell_type": "code",
      "execution_count": 56,
      "metadata": {
        "id": "jSir5UDk-k9w"
      },
      "outputs": [],
      "source": [
        "cor = df_selected.corr().abs()"
      ]
    },
    {
      "cell_type": "code",
      "execution_count": 57,
      "metadata": {
        "colab": {
          "base_uri": "https://localhost:8080/"
        },
        "id": "fSNhstYv9U5z",
        "outputId": "d249bfe9-8e14-479a-83c4-8e96e482e71f"
      },
      "outputs": [
        {
          "name": "stdout",
          "output_type": "stream",
          "text": [
            "Selected Columns after filtering  high correlation between features Index(['year', 'month', 'number_of_holidays', 'tavg', 'prcp', 'snow', 'wspd'], dtype='object')\n"
          ]
        },
        {
          "name": "stderr",
          "output_type": "stream",
          "text": [
            "DeprecationWarning: `np.bool` is a deprecated alias for the builtin `bool`. To silence this warning, use `bool` by itself. Doing this will not modify any behavior and is safe. If you specifically wanted the numpy scalar type, use `np.bool_` here.\n",
            "Deprecated in NumPy 1.20; for more details and guidance: https://numpy.org/devdocs/release/1.20.0-notes.html#deprecations\n"
          ]
        }
      ],
      "source": [
        "# drop highly correlated features\n",
        "upper = cor.where(np.triu(np.ones(cor.shape), k=1).astype(np.bool))\n",
        "to_drop = [column for column in upper.columns if any(upper[column] > corr_between_features)]\n",
        "df_selected = df_selected.drop(df_selected[to_drop], axis=1)\n",
        "df_selected = df_selected[[cols for cols in df_selected.columns if cols != 'value']]\n",
        "print('Selected Columns after filtering  high correlation between features', df_selected.columns)"
      ]
    },
    {
      "cell_type": "code",
      "execution_count": 58,
      "metadata": {
        "colab": {
          "base_uri": "https://localhost:8080/",
          "height": 961
        },
        "id": "-CDJp7sN_Eyi",
        "outputId": "1e729038-678c-4408-c671-6fd2d6af3afd"
      },
      "outputs": [
        {
          "data": {
            "image/png": "[encoded data removed]",
            "text/plain": [
              "<Figure size 1000x1000 with 2 Axes>"
            ]
          },
          "metadata": {},
          "output_type": "display_data"
        }
      ],
      "source": [
        "df_selected[\"value\"] = df_selected_label\n",
        "corrMatrix=df_selected.corr()\n",
        "plt.figure(figsize=(10,10));\n",
        "sn.heatmap(corrMatrix,annot=True);"
      ]
    },
    {
      "cell_type": "markdown",
      "metadata": {
        "id": "hgPdBGVsXnLa"
      },
      "source": [
        "# Model"
      ]
    },
    {
      "cell_type": "markdown",
      "metadata": {
        "id": "2H6Vu2RP0U0v"
      },
      "source": [
        "**Let's take years (2018-2019-2020-2021) as our validation set**"
      ]
    },
    {
      "cell_type": "code",
      "execution_count": 79,
      "metadata": {
        "id": "lLSR1_VL6t9o"
      },
      "outputs": [],
      "source": [
        "df = df[(df['category'] == 'Alkoholunfälle') & (df['accident_type'] == 'insgesamt')]"
      ]
    },
    {
      "cell_type": "code",
      "execution_count": 80,
      "metadata": {
        "id": "u2pQeYQXzk82"
      },
      "outputs": [],
      "source": [
        "df_valid = df[df[\"year\"]>=2018]\n",
        "df_train = df[df[\"year\"]<2018]"
      ]
    },
    {
      "cell_type": "code",
      "execution_count": 81,
      "metadata": {
        "id": "h7rY7PHa0sNY"
      },
      "outputs": [],
      "source": [
        "df_train_x = df_train.drop(columns=[\"category\",\"accident_type\",\"value\"])\n",
        "# df_train_x = df_train.drop(columns=[\"value\"])\n",
        "df_train_y = df_train[\"value\"]"
      ]
    },
    {
      "cell_type": "code",
      "execution_count": 82,
      "metadata": {
        "id": "1D6xvdPL0uhZ"
      },
      "outputs": [],
      "source": [
        "df_valid_x = df_valid.drop(columns=[\"category\",\"accident_type\",\"value\"])\n",
        "# df_valid_x = df_valid.drop(columns=[\"value\"])\n",
        "df_valid_y = df_valid[\"value\"]"
      ]
    },
    {
      "cell_type": "code",
      "execution_count": 83,
      "metadata": {
        "id": "4QmEFJr45Ns2"
      },
      "outputs": [],
      "source": [
        "scaler = StandardScaler().fit(df_train_x)\n",
        "df_train_x_transformed = scaler.transform(df_train_x)\n",
        "df_valid_x_transformed = scaler.transform(df_valid_x)"
      ]
    },
    {
      "cell_type": "markdown",
      "metadata": {
        "id": "M2rNNCkBB-xZ"
      },
      "source": [
        "## Adaboost"
      ]
    },
    {
      "cell_type": "code",
      "execution_count": 84,
      "metadata": {
        "id": "6nIGY-2c4cRR"
      },
      "outputs": [],
      "source": [
        "clf = AdaBoostRegressor(n_estimators=150,random_state=42,learning_rate=0.9,loss=\"exponential\")\n",
        "clf = clf.fit(df_train_x_transformed,df_train_y)"
      ]
    },
    {
      "cell_type": "code",
      "execution_count": 85,
      "metadata": {
        "id": "t5iPCelI4tHB"
      },
      "outputs": [],
      "source": [
        "predicted_valid = clf.predict(df_valid_x_transformed)\n",
        "predicted_train = clf.predict(df_train_x_transformed)"
      ]
    },
    {
      "cell_type": "code",
      "execution_count": 86,
      "metadata": {
        "colab": {
          "base_uri": "https://localhost:8080/"
        },
        "id": "iqO9OiMR7XY1",
        "outputId": "a4443f6c-de94-4636-d752-46eeac3a9493"
      },
      "outputs": [
        {
          "data": {
            "text/plain": [
              "46.25321471028907"
            ]
          },
          "execution_count": 86,
          "metadata": {},
          "output_type": "execute_result"
        }
      ],
      "source": [
        "mean_squared_error(df_train_y, predicted_train)"
      ]
    },
    {
      "cell_type": "code",
      "execution_count": 87,
      "metadata": {
        "colab": {
          "base_uri": "https://localhost:8080/"
        },
        "id": "Le-yiKy53jIw",
        "outputId": "24150ad3-a465-4e83-b7f5-c375c2af6912"
      },
      "outputs": [
        {
          "data": {
            "text/plain": [
              "59.09535557357083"
            ]
          },
          "execution_count": 87,
          "metadata": {},
          "output_type": "execute_result"
        }
      ],
      "source": [
        "mean_squared_error(df_valid_y, predicted_valid)"
      ]
    },
    {
      "cell_type": "markdown",
      "metadata": {
        "id": "gBkVCUixCBqK"
      },
      "source": [
        "##XGBoost"
      ]
    },
    {
      "cell_type": "code",
      "execution_count": 387,
      "metadata": {
        "id": "0uH7CXxW99BE"
      },
      "outputs": [],
      "source": [
        "xgbmodel = xgboost.XGBRegressor(n_estimators=15, max_depth=2, eta=0.09, subsample=0.6, colsample_bytree=0.9,learning_rate=0.3,alpha=0.7)\n",
        "xgbmodel = xgbmodel.fit(df_train_x_transformed,df_train_y)"
      ]
    },
    {
      "cell_type": "code",
      "execution_count": 388,
      "metadata": {
        "id": "6p_xI6ml-Xj7"
      },
      "outputs": [],
      "source": [
        "predicted_valid = xgbmodel.predict(df_valid_x_transformed)\n",
        "predicted_train = xgbmodel.predict(df_train_x_transformed)"
      ]
    },
    {
      "cell_type": "code",
      "execution_count": 389,
      "metadata": {
        "colab": {
          "base_uri": "https://localhost:8080/"
        },
        "id": "lUTUBviL-ap8",
        "outputId": "9f555c65-232d-4249-e024-f76dae51fe6d"
      },
      "outputs": [
        {
          "data": {
            "text/plain": [
              "49.73122393656555"
            ]
          },
          "execution_count": 389,
          "metadata": {},
          "output_type": "execute_result"
        }
      ],
      "source": [
        "mean_squared_error(df_train_y, predicted_train)"
      ]
    },
    {
      "cell_type": "code",
      "execution_count": 390,
      "metadata": {
        "colab": {
          "base_uri": "https://localhost:8080/"
        },
        "id": "8ciOKB0z-b_E",
        "outputId": "53a797af-f65e-4800-f203-d1cc23449751"
      },
      "outputs": [
        {
          "data": {
            "text/plain": [
              "52.83417929310607"
            ]
          },
          "execution_count": 390,
          "metadata": {},
          "output_type": "execute_result"
        }
      ],
      "source": [
        "mean_squared_error(df_valid_y, predicted_valid)"
      ]
    },
    {
      "cell_type": "markdown",
      "metadata": {
        "id": "i-73KFhrL8pA"
      },
      "source": [
        "# Model Saving"
      ]
    },
    {
      "cell_type": "code",
      "execution_count": 396,
      "metadata": {
        "id": "afuRIMkiL-0b"
      },
      "outputs": [],
      "source": [
        "\n",
        "file_name = os.path.join(os.os.getcwd(),\"model/DPS_xgb_reg.pkl\")\n",
        "pickle.dump(xgbmodel, open(file_name, \"wb\"))\n",
        "\n",
        "file_name = os.path.join(os.os.getcwd(),\"model/DPS_adaboost_reg.pkl\")\n",
        "pickle.dump(clf, open(file_name, \"wb\"))\n"
      ]
    },
    {
      "cell_type": "markdown",
      "metadata": {
        "id": "4KkXQShe1ez9"
      },
      "source": [
        "# Draw predicted vs actual"
      ]
    },
    {
      "cell_type": "code",
      "execution_count": 391,
      "metadata": {
        "id": "VSADdLKl2cSk"
      },
      "outputs": [],
      "source": [
        "df_valid_sample = df_valid[(df_valid[\"year\"]==2018)|(df_valid[\"year\"]==2019)]"
      ]
    },
    {
      "cell_type": "code",
      "execution_count": 392,
      "metadata": {
        "id": "QecYjZBFFb6K"
      },
      "outputs": [],
      "source": [
        "df_valid_sample_x = df_valid_sample.drop(columns=[\"category\",\"accident_type\",\"value\"])\n",
        "\n",
        "df_valid_sample_y =  df_valid_sample[\"value\"]\n",
        "\n",
        "df_valid_sample_x_transformed = scaler.transform(df_valid_sample_x)"
      ]
    },
    {
      "cell_type": "code",
      "execution_count": 393,
      "metadata": {
        "colab": {
          "base_uri": "https://localhost:8080/"
        },
        "id": "SxFStKihF8e_",
        "outputId": "9817169d-f22f-4aba-b1b0-7d5ca281c06b"
      },
      "outputs": [
        {
          "name": "stderr",
          "output_type": "stream",
          "text": [
            "SettingWithCopyWarning: \n",
            "A value is trying to be set on a copy of a slice from a DataFrame.\n",
            "Try using .loc[row_indexer,col_indexer] = value instead\n",
            "\n",
            "See the caveats in the documentation: https://pandas.pydata.org/pandas-docs/stable/user_guide/indexing.html#returning-a-view-versus-a-copy\n"
          ]
        }
      ],
      "source": [
        "df_valid_sample[\"time\"] = df_valid_sample[\"year\"].astype(str) +\"_\"+ df_valid_sample[\"month\"].astype(str)\n",
        "\n",
        "df_valid_sample = df_valid_sample.sort_values(by=\"time\")"
      ]
    },
    {
      "cell_type": "code",
      "execution_count": 394,
      "metadata": {
        "colab": {
          "base_uri": "https://localhost:8080/",
          "height": 447
        },
        "id": "II40jS_h149r",
        "outputId": "4f64572e-203d-46a5-b370-c263421b736b"
      },
      "outputs": [
        {
          "data": {
            "text/plain": [
              "<matplotlib.legend.Legend at 0x79a3b0bf6380>"
            ]
          },
          "execution_count": 394,
          "metadata": {},
          "output_type": "execute_result"
        },
        {
          "data": {
            "image/png": "[encoded data removed]",
            "text/plain": [
              "<Figure size 640x480 with 1 Axes>"
            ]
          },
          "metadata": {},
          "output_type": "display_data"
        }
      ],
      "source": [
        "plt.plot(df_valid_sample[\"time\"],df_valid_sample[\"value\"],label='Ground Truth')\n",
        "plt.plot(df_valid_sample[\"time\"],xgbmodel.predict(df_valid_sample_x_transformed),label='Predicted')\n",
        "plt.legend()"
      ]
    }
  ],
  "metadata": {
    "colab": {
      "collapsed_sections": [
        "gXuZlzsnRzLz",
        "bdDyHdEq9mSf",
        "STY_1OMMSViH",
        "ksJ8qnaDKV-6",
        "h5H5-I3nAfMW"
      ],
      "provenance": []
    },
    "kernelspec": {
      "display_name": "Python 3",
      "name": "python3"
    },
    "language_info": {
      "name": "python"
    }
  },
  "nbformat": 4,
  "nbformat_minor": 0
}
